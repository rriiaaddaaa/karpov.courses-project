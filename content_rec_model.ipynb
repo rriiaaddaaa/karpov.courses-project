{
 "cells": [
  {
   "cell_type": "code",
   "execution_count": 1,
   "metadata": {},
   "outputs": [],
   "source": [
    "import pandas as pd \n",
    "import numpy as np \n",
    "import matplotlib.pyplot as plt \n",
    "import seaborn as sns"
   ]
  },
  {
   "cell_type": "code",
   "execution_count": 2,
   "metadata": {},
   "outputs": [],
   "source": [
    "user_df = pd.read_csv('users.csv')\n",
    "post_df = pd.read_csv('posts.csv')"
   ]
  },
  {
   "cell_type": "code",
   "execution_count": 3,
   "metadata": {},
   "outputs": [],
   "source": [
    "feed_df = pd.read_csv('feeds_2.csv')"
   ]
  },
  {
   "cell_type": "markdown",
   "metadata": {},
   "source": [
    "## 1. Info about datasets"
   ]
  },
  {
   "cell_type": "markdown",
   "metadata": {},
   "source": [
    "#### Users:"
   ]
  },
  {
   "cell_type": "code",
   "execution_count": 4,
   "metadata": {},
   "outputs": [
    {
     "data": {
      "text/html": [
       "<div>\n",
       "<style scoped>\n",
       "    .dataframe tbody tr th:only-of-type {\n",
       "        vertical-align: middle;\n",
       "    }\n",
       "\n",
       "    .dataframe tbody tr th {\n",
       "        vertical-align: top;\n",
       "    }\n",
       "\n",
       "    .dataframe thead th {\n",
       "        text-align: right;\n",
       "    }\n",
       "</style>\n",
       "<table border=\"1\" class=\"dataframe\">\n",
       "  <thead>\n",
       "    <tr style=\"text-align: right;\">\n",
       "      <th></th>\n",
       "      <th>user_id</th>\n",
       "      <th>gender</th>\n",
       "      <th>age</th>\n",
       "      <th>country</th>\n",
       "      <th>city</th>\n",
       "      <th>exp_group</th>\n",
       "      <th>os</th>\n",
       "      <th>source</th>\n",
       "    </tr>\n",
       "  </thead>\n",
       "  <tbody>\n",
       "    <tr>\n",
       "      <th>0</th>\n",
       "      <td>200</td>\n",
       "      <td>1</td>\n",
       "      <td>34</td>\n",
       "      <td>Russia</td>\n",
       "      <td>Degtyarsk</td>\n",
       "      <td>3</td>\n",
       "      <td>Android</td>\n",
       "      <td>ads</td>\n",
       "    </tr>\n",
       "    <tr>\n",
       "      <th>1</th>\n",
       "      <td>201</td>\n",
       "      <td>0</td>\n",
       "      <td>37</td>\n",
       "      <td>Russia</td>\n",
       "      <td>Abakan</td>\n",
       "      <td>0</td>\n",
       "      <td>Android</td>\n",
       "      <td>ads</td>\n",
       "    </tr>\n",
       "    <tr>\n",
       "      <th>2</th>\n",
       "      <td>202</td>\n",
       "      <td>1</td>\n",
       "      <td>17</td>\n",
       "      <td>Russia</td>\n",
       "      <td>Smolensk</td>\n",
       "      <td>4</td>\n",
       "      <td>Android</td>\n",
       "      <td>ads</td>\n",
       "    </tr>\n",
       "    <tr>\n",
       "      <th>3</th>\n",
       "      <td>203</td>\n",
       "      <td>0</td>\n",
       "      <td>18</td>\n",
       "      <td>Russia</td>\n",
       "      <td>Moscow</td>\n",
       "      <td>1</td>\n",
       "      <td>iOS</td>\n",
       "      <td>ads</td>\n",
       "    </tr>\n",
       "    <tr>\n",
       "      <th>4</th>\n",
       "      <td>204</td>\n",
       "      <td>0</td>\n",
       "      <td>36</td>\n",
       "      <td>Russia</td>\n",
       "      <td>Anzhero-Sudzhensk</td>\n",
       "      <td>3</td>\n",
       "      <td>Android</td>\n",
       "      <td>ads</td>\n",
       "    </tr>\n",
       "  </tbody>\n",
       "</table>\n",
       "</div>"
      ],
      "text/plain": [
       "   user_id  gender  age country               city  exp_group       os source\n",
       "0      200       1   34  Russia          Degtyarsk          3  Android    ads\n",
       "1      201       0   37  Russia             Abakan          0  Android    ads\n",
       "2      202       1   17  Russia           Smolensk          4  Android    ads\n",
       "3      203       0   18  Russia             Moscow          1      iOS    ads\n",
       "4      204       0   36  Russia  Anzhero-Sudzhensk          3  Android    ads"
      ]
     },
     "execution_count": 4,
     "metadata": {},
     "output_type": "execute_result"
    }
   ],
   "source": [
    "user_df.head()"
   ]
  },
  {
   "cell_type": "code",
   "execution_count": 5,
   "metadata": {},
   "outputs": [
    {
     "name": "stdout",
     "output_type": "stream",
     "text": [
      "<class 'pandas.core.frame.DataFrame'>\n",
      "RangeIndex: 163205 entries, 0 to 163204\n",
      "Data columns (total 8 columns):\n",
      " #   Column     Non-Null Count   Dtype \n",
      "---  ------     --------------   ----- \n",
      " 0   user_id    163205 non-null  int64 \n",
      " 1   gender     163205 non-null  int64 \n",
      " 2   age        163205 non-null  int64 \n",
      " 3   country    163205 non-null  object\n",
      " 4   city       163205 non-null  object\n",
      " 5   exp_group  163205 non-null  int64 \n",
      " 6   os         163205 non-null  object\n",
      " 7   source     163205 non-null  object\n",
      "dtypes: int64(4), object(4)\n",
      "memory usage: 10.0+ MB\n"
     ]
    }
   ],
   "source": [
    "user_df.info()"
   ]
  },
  {
   "cell_type": "code",
   "execution_count": 6,
   "metadata": {},
   "outputs": [
    {
     "data": {
      "text/plain": [
       "user_id      0\n",
       "gender       0\n",
       "age          0\n",
       "country      0\n",
       "city         0\n",
       "exp_group    0\n",
       "os           0\n",
       "source       0\n",
       "dtype: int64"
      ]
     },
     "execution_count": 6,
     "metadata": {},
     "output_type": "execute_result"
    }
   ],
   "source": [
    "user_df.isna().sum()"
   ]
  },
  {
   "cell_type": "code",
   "execution_count": 7,
   "metadata": {},
   "outputs": [
    {
     "data": {
      "text/plain": [
       "user_id      163205\n",
       "gender            2\n",
       "age              76\n",
       "country          11\n",
       "city           3915\n",
       "exp_group         5\n",
       "os                2\n",
       "source            2\n",
       "dtype: int64"
      ]
     },
     "execution_count": 7,
     "metadata": {},
     "output_type": "execute_result"
    }
   ],
   "source": [
    "user_df.nunique()"
   ]
  },
  {
   "cell_type": "code",
   "execution_count": 8,
   "metadata": {},
   "outputs": [
    {
     "data": {
      "text/plain": [
       "0"
      ]
     },
     "execution_count": 8,
     "metadata": {},
     "output_type": "execute_result"
    }
   ],
   "source": [
    "user_df.duplicated().sum()"
   ]
  },
  {
   "cell_type": "markdown",
   "metadata": {},
   "source": [
    "#### Posts:"
   ]
  },
  {
   "cell_type": "code",
   "execution_count": 9,
   "metadata": {},
   "outputs": [
    {
     "data": {
      "text/html": [
       "<div>\n",
       "<style scoped>\n",
       "    .dataframe tbody tr th:only-of-type {\n",
       "        vertical-align: middle;\n",
       "    }\n",
       "\n",
       "    .dataframe tbody tr th {\n",
       "        vertical-align: top;\n",
       "    }\n",
       "\n",
       "    .dataframe thead th {\n",
       "        text-align: right;\n",
       "    }\n",
       "</style>\n",
       "<table border=\"1\" class=\"dataframe\">\n",
       "  <thead>\n",
       "    <tr style=\"text-align: right;\">\n",
       "      <th></th>\n",
       "      <th>post_id</th>\n",
       "      <th>text</th>\n",
       "      <th>topic</th>\n",
       "    </tr>\n",
       "  </thead>\n",
       "  <tbody>\n",
       "    <tr>\n",
       "      <th>0</th>\n",
       "      <td>1</td>\n",
       "      <td>UK economy facing major risks\\n\\nThe UK manufa...</td>\n",
       "      <td>business</td>\n",
       "    </tr>\n",
       "    <tr>\n",
       "      <th>1</th>\n",
       "      <td>2</td>\n",
       "      <td>Aids and climate top Davos agenda\\n\\nClimate c...</td>\n",
       "      <td>business</td>\n",
       "    </tr>\n",
       "    <tr>\n",
       "      <th>2</th>\n",
       "      <td>3</td>\n",
       "      <td>Asian quake hits European shares\\n\\nShares in ...</td>\n",
       "      <td>business</td>\n",
       "    </tr>\n",
       "    <tr>\n",
       "      <th>3</th>\n",
       "      <td>4</td>\n",
       "      <td>India power shares jump on debut\\n\\nShares in ...</td>\n",
       "      <td>business</td>\n",
       "    </tr>\n",
       "    <tr>\n",
       "      <th>4</th>\n",
       "      <td>5</td>\n",
       "      <td>Lacroix label bought by US firm\\n\\nLuxury good...</td>\n",
       "      <td>business</td>\n",
       "    </tr>\n",
       "  </tbody>\n",
       "</table>\n",
       "</div>"
      ],
      "text/plain": [
       "   post_id                                               text     topic\n",
       "0        1  UK economy facing major risks\\n\\nThe UK manufa...  business\n",
       "1        2  Aids and climate top Davos agenda\\n\\nClimate c...  business\n",
       "2        3  Asian quake hits European shares\\n\\nShares in ...  business\n",
       "3        4  India power shares jump on debut\\n\\nShares in ...  business\n",
       "4        5  Lacroix label bought by US firm\\n\\nLuxury good...  business"
      ]
     },
     "execution_count": 9,
     "metadata": {},
     "output_type": "execute_result"
    }
   ],
   "source": [
    "post_df.head()"
   ]
  },
  {
   "cell_type": "code",
   "execution_count": 10,
   "metadata": {},
   "outputs": [
    {
     "data": {
      "text/plain": [
       "post_id    0\n",
       "text       0\n",
       "topic      0\n",
       "dtype: int64"
      ]
     },
     "execution_count": 10,
     "metadata": {},
     "output_type": "execute_result"
    }
   ],
   "source": [
    "post_df.isna().sum()"
   ]
  },
  {
   "cell_type": "code",
   "execution_count": 11,
   "metadata": {},
   "outputs": [
    {
     "data": {
      "text/plain": [
       "post_id    7023\n",
       "text       6924\n",
       "topic         7\n",
       "dtype: int64"
      ]
     },
     "execution_count": 11,
     "metadata": {},
     "output_type": "execute_result"
    }
   ],
   "source": [
    "post_df.nunique()"
   ]
  },
  {
   "cell_type": "code",
   "execution_count": 12,
   "metadata": {},
   "outputs": [
    {
     "name": "stdout",
     "output_type": "stream",
     "text": [
      "<class 'pandas.core.frame.DataFrame'>\n",
      "RangeIndex: 7023 entries, 0 to 7022\n",
      "Data columns (total 3 columns):\n",
      " #   Column   Non-Null Count  Dtype \n",
      "---  ------   --------------  ----- \n",
      " 0   post_id  7023 non-null   int64 \n",
      " 1   text     7023 non-null   object\n",
      " 2   topic    7023 non-null   object\n",
      "dtypes: int64(1), object(2)\n",
      "memory usage: 164.7+ KB\n"
     ]
    }
   ],
   "source": [
    "post_df.info()"
   ]
  },
  {
   "cell_type": "code",
   "execution_count": 13,
   "metadata": {},
   "outputs": [
    {
     "data": {
      "text/plain": [
       "0"
      ]
     },
     "execution_count": 13,
     "metadata": {},
     "output_type": "execute_result"
    }
   ],
   "source": [
    "post_df.duplicated().sum()"
   ]
  },
  {
   "cell_type": "markdown",
   "metadata": {},
   "source": [
    "#### Feeds:"
   ]
  },
  {
   "cell_type": "code",
   "execution_count": 14,
   "metadata": {},
   "outputs": [
    {
     "data": {
      "text/plain": [
       "24972     265\n",
       "114976    264\n",
       "142343    264\n",
       "14817     263\n",
       "90643     262\n",
       "         ... \n",
       "48900      23\n",
       "17799      23\n",
       "128594     22\n",
       "67199      22\n",
       "68320      20\n",
       "Name: user_id, Length: 163205, dtype: int64"
      ]
     },
     "execution_count": 14,
     "metadata": {},
     "output_type": "execute_result"
    }
   ],
   "source": [
    "feed_df['user_id'].value_counts()"
   ]
  },
  {
   "cell_type": "code",
   "execution_count": 15,
   "metadata": {},
   "outputs": [],
   "source": [
    "feed_df = feed_df.sort_values(by='user_id').head(100000) # сократим кол-во строк в датасете\n",
    "feed_df = feed_df[feed_df['action'] != 'like'].drop('action', axis=1)"
   ]
  },
  {
   "cell_type": "code",
   "execution_count": 16,
   "metadata": {},
   "outputs": [
    {
     "data": {
      "text/html": [
       "<div>\n",
       "<style scoped>\n",
       "    .dataframe tbody tr th:only-of-type {\n",
       "        vertical-align: middle;\n",
       "    }\n",
       "\n",
       "    .dataframe tbody tr th {\n",
       "        vertical-align: top;\n",
       "    }\n",
       "\n",
       "    .dataframe thead th {\n",
       "        text-align: right;\n",
       "    }\n",
       "</style>\n",
       "<table border=\"1\" class=\"dataframe\">\n",
       "  <thead>\n",
       "    <tr style=\"text-align: right;\">\n",
       "      <th></th>\n",
       "      <th>timestamp</th>\n",
       "      <th>user_id</th>\n",
       "      <th>post_id</th>\n",
       "      <th>target</th>\n",
       "    </tr>\n",
       "  </thead>\n",
       "  <tbody>\n",
       "    <tr>\n",
       "      <th>5003405</th>\n",
       "      <td>2021-11-13 19:56:24</td>\n",
       "      <td>200</td>\n",
       "      <td>28</td>\n",
       "      <td>0</td>\n",
       "    </tr>\n",
       "    <tr>\n",
       "      <th>2153696</th>\n",
       "      <td>2021-10-29 19:24:04</td>\n",
       "      <td>200</td>\n",
       "      <td>2</td>\n",
       "      <td>0</td>\n",
       "    </tr>\n",
       "    <tr>\n",
       "      <th>12095690</th>\n",
       "      <td>2021-12-24 14:00:21</td>\n",
       "      <td>200</td>\n",
       "      <td>7042</td>\n",
       "      <td>0</td>\n",
       "    </tr>\n",
       "    <tr>\n",
       "      <th>9580835</th>\n",
       "      <td>2021-10-06 15:26:01</td>\n",
       "      <td>200</td>\n",
       "      <td>438</td>\n",
       "      <td>0</td>\n",
       "    </tr>\n",
       "    <tr>\n",
       "      <th>6023591</th>\n",
       "      <td>2021-10-06 15:15:32</td>\n",
       "      <td>200</td>\n",
       "      <td>1141</td>\n",
       "      <td>0</td>\n",
       "    </tr>\n",
       "  </tbody>\n",
       "</table>\n",
       "</div>"
      ],
      "text/plain": [
       "                    timestamp  user_id  post_id  target\n",
       "5003405   2021-11-13 19:56:24      200       28       0\n",
       "2153696   2021-10-29 19:24:04      200        2       0\n",
       "12095690  2021-12-24 14:00:21      200     7042       0\n",
       "9580835   2021-10-06 15:26:01      200      438       0\n",
       "6023591   2021-10-06 15:15:32      200     1141       0"
      ]
     },
     "execution_count": 16,
     "metadata": {},
     "output_type": "execute_result"
    }
   ],
   "source": [
    "feed_df.head()"
   ]
  },
  {
   "cell_type": "code",
   "execution_count": 17,
   "metadata": {},
   "outputs": [
    {
     "data": {
      "text/plain": [
       "timestamp    0\n",
       "user_id      0\n",
       "post_id      0\n",
       "target       0\n",
       "dtype: int64"
      ]
     },
     "execution_count": 17,
     "metadata": {},
     "output_type": "execute_result"
    }
   ],
   "source": [
    "feed_df.isna().sum()"
   ]
  },
  {
   "cell_type": "code",
   "execution_count": 18,
   "metadata": {},
   "outputs": [
    {
     "data": {
      "text/plain": [
       "timestamp    88664\n",
       "user_id        809\n",
       "post_id       6831\n",
       "target           2\n",
       "dtype: int64"
      ]
     },
     "execution_count": 18,
     "metadata": {},
     "output_type": "execute_result"
    }
   ],
   "source": [
    "feed_df.nunique()"
   ]
  },
  {
   "cell_type": "code",
   "execution_count": 19,
   "metadata": {},
   "outputs": [
    {
     "name": "stdout",
     "output_type": "stream",
     "text": [
      "<class 'pandas.core.frame.DataFrame'>\n",
      "Int64Index: 89324 entries, 5003405 to 17089200\n",
      "Data columns (total 4 columns):\n",
      " #   Column     Non-Null Count  Dtype \n",
      "---  ------     --------------  ----- \n",
      " 0   timestamp  89324 non-null  object\n",
      " 1   user_id    89324 non-null  int64 \n",
      " 2   post_id    89324 non-null  int64 \n",
      " 3   target     89324 non-null  int64 \n",
      "dtypes: int64(3), object(1)\n",
      "memory usage: 3.4+ MB\n"
     ]
    }
   ],
   "source": [
    "feed_df.info()"
   ]
  },
  {
   "cell_type": "code",
   "execution_count": 20,
   "metadata": {},
   "outputs": [],
   "source": [
    "feed_df.timestamp = pd.to_datetime(feed_df.timestamp)"
   ]
  },
  {
   "cell_type": "code",
   "execution_count": 21,
   "metadata": {},
   "outputs": [
    {
     "data": {
      "text/plain": [
       "0"
      ]
     },
     "execution_count": 21,
     "metadata": {},
     "output_type": "execute_result"
    }
   ],
   "source": [
    "feed_df.duplicated().sum()"
   ]
  },
  {
   "cell_type": "markdown",
   "metadata": {},
   "source": [
    "## 2. Preprocessing"
   ]
  },
  {
   "cell_type": "markdown",
   "metadata": {},
   "source": [
    "#### TF IDF"
   ]
  },
  {
   "cell_type": "code",
   "execution_count": 22,
   "metadata": {},
   "outputs": [
    {
     "name": "stderr",
     "output_type": "stream",
     "text": [
      "[nltk_data] Downloading package wordnet to\n",
      "[nltk_data]     C:\\Users\\Пользователь\\AppData\\Roaming\\nltk_data...\n",
      "[nltk_data]   Package wordnet is already up-to-date!\n"
     ]
    }
   ],
   "source": [
    "from sklearn.feature_extraction.text import TfidfVectorizer\n",
    "from nltk.stem import WordNetLemmatizer \n",
    "\n",
    "import re\n",
    "import string\n",
    "import nltk\n",
    "nltk.download('wordnet')\n",
    "\n",
    "wnl = WordNetLemmatizer()\n",
    "\n",
    "def preprocessing(line, token=wnl):\n",
    "    line = line.lower() # приводим все символы строки к нижнему регистру\n",
    "    line = re.sub(r'[{}]'.format(string.punctuation), ' ', line) # заменяем все знаки пунктуации в строке на пробелы\n",
    "    line = line.replace('\\n\\n', ' ').replace('\\n', ' ') # заменяем перенос строки и двойной перенос строки на пробелы\n",
    "    line = ' '.join([token.lemmatize(x) for x in line.split(' ')]) # создаем строку из списка слов в строке, разделенную по пробелам, где к каждоиму слову была применена лемматизация\n",
    "    return line\n",
    "\n",
    "tfidf = TfidfVectorizer(\n",
    "    preprocessor=preprocessing\n",
    ")"
   ]
  },
  {
   "cell_type": "code",
   "execution_count": 23,
   "metadata": {},
   "outputs": [],
   "source": [
    "tfidf_data = (\n",
    "    tfidf\n",
    "    .fit_transform(post_df['text'])\n",
    "    .toarray()\n",
    ")\n",
    "\n",
    "tfidf_data = pd.DataFrame(\n",
    "    tfidf_data,\n",
    "    index = post_df.post_id,\n",
    "    columns = tfidf.get_feature_names_out()\n",
    ")"
   ]
  },
  {
   "cell_type": "code",
   "execution_count": 24,
   "metadata": {},
   "outputs": [],
   "source": [
    "from sklearn.decomposition import PCA\n",
    "\n",
    "def get_pca_text(n_components, data): # функция, в которой реализуется PCA\n",
    "    centered = data - data.mean()\n",
    "    pca = PCA(n_components)\n",
    "    pca_decomp = pca.fit_transform(centered)\n",
    "    pca_decomp = pd.DataFrame(pca_decomp, columns = [f'PCA_{i}' for i in range(pca_decomp.shape[1])]).set_index(tfidf_data.index)\n",
    "    return pca_decomp\n",
    "\n",
    "pca_decomp = get_pca_text(n_components=80, data=tfidf_data)"
   ]
  },
  {
   "cell_type": "markdown",
   "metadata": {},
   "source": [
    "#### Merging table and new features"
   ]
  },
  {
   "cell_type": "code",
   "execution_count": 25,
   "metadata": {},
   "outputs": [],
   "source": [
    "def merged_table(pca_decomp, post_df):\n",
    "    post_df = post_df.join(pca_decomp).drop('text', axis=1)\n",
    "    data = pd.merge(feed_df, user_df, on='user_id', how='left').merge(post_df, how='left', on='post_id')\n",
    "    return data.set_index(['user_id', 'post_id'])\n",
    "\n",
    "data = merged_table(pca_decomp=pca_decomp, post_df=post_df)"
   ]
  },
  {
   "cell_type": "code",
   "execution_count": 26,
   "metadata": {},
   "outputs": [
    {
     "data": {
      "text/plain": [
       "(89324, 90)"
      ]
     },
     "execution_count": 26,
     "metadata": {},
     "output_type": "execute_result"
    }
   ],
   "source": [
    "data.shape"
   ]
  },
  {
   "cell_type": "code",
   "execution_count": 27,
   "metadata": {},
   "outputs": [
    {
     "data": {
      "text/plain": [
       "PCA_35       3643\n",
       "PCA_36       3643\n",
       "PCA_56       3643\n",
       "PCA_55       3643\n",
       "PCA_54       3643\n",
       "             ... \n",
       "exp_group       0\n",
       "os              0\n",
       "source          0\n",
       "topic           0\n",
       "timestamp       0\n",
       "Length: 90, dtype: int64"
      ]
     },
     "execution_count": 27,
     "metadata": {},
     "output_type": "execute_result"
    }
   ],
   "source": [
    "data.isna().sum().sort_values(ascending=False)"
   ]
  },
  {
   "cell_type": "code",
   "execution_count": 28,
   "metadata": {},
   "outputs": [
    {
     "data": {
      "text/plain": [
       "13.47196991831705"
      ]
     },
     "execution_count": 28,
     "metadata": {},
     "output_type": "execute_result"
    }
   ],
   "source": [
    "data['target'].value_counts()[1] / data['target'].value_counts()[0] * 100"
   ]
  },
  {
   "cell_type": "code",
   "execution_count": 29,
   "metadata": {},
   "outputs": [
    {
     "data": {
      "text/plain": [
       "(['gender', 'country', 'city', 'exp_group', 'os', 'source', 'topic'],\n",
       " ['timestamp',\n",
       "  'target',\n",
       "  'age',\n",
       "  'PCA_0',\n",
       "  'PCA_1',\n",
       "  'PCA_2',\n",
       "  'PCA_3',\n",
       "  'PCA_4',\n",
       "  'PCA_5',\n",
       "  'PCA_6',\n",
       "  'PCA_7',\n",
       "  'PCA_8',\n",
       "  'PCA_9',\n",
       "  'PCA_10',\n",
       "  'PCA_11',\n",
       "  'PCA_12',\n",
       "  'PCA_13',\n",
       "  'PCA_14',\n",
       "  'PCA_15',\n",
       "  'PCA_16',\n",
       "  'PCA_17',\n",
       "  'PCA_18',\n",
       "  'PCA_19',\n",
       "  'PCA_20',\n",
       "  'PCA_21',\n",
       "  'PCA_22',\n",
       "  'PCA_23',\n",
       "  'PCA_24',\n",
       "  'PCA_25',\n",
       "  'PCA_26',\n",
       "  'PCA_27',\n",
       "  'PCA_28',\n",
       "  'PCA_29',\n",
       "  'PCA_30',\n",
       "  'PCA_31',\n",
       "  'PCA_32',\n",
       "  'PCA_33',\n",
       "  'PCA_34',\n",
       "  'PCA_35',\n",
       "  'PCA_36',\n",
       "  'PCA_37',\n",
       "  'PCA_38',\n",
       "  'PCA_39',\n",
       "  'PCA_40',\n",
       "  'PCA_41',\n",
       "  'PCA_42',\n",
       "  'PCA_43',\n",
       "  'PCA_44',\n",
       "  'PCA_45',\n",
       "  'PCA_46',\n",
       "  'PCA_47',\n",
       "  'PCA_48',\n",
       "  'PCA_49',\n",
       "  'PCA_50',\n",
       "  'PCA_51',\n",
       "  'PCA_52',\n",
       "  'PCA_53',\n",
       "  'PCA_54',\n",
       "  'PCA_55',\n",
       "  'PCA_56',\n",
       "  'PCA_57',\n",
       "  'PCA_58',\n",
       "  'PCA_59',\n",
       "  'PCA_60',\n",
       "  'PCA_61',\n",
       "  'PCA_62',\n",
       "  'PCA_63',\n",
       "  'PCA_64',\n",
       "  'PCA_65',\n",
       "  'PCA_66',\n",
       "  'PCA_67',\n",
       "  'PCA_68',\n",
       "  'PCA_69',\n",
       "  'PCA_70',\n",
       "  'PCA_71',\n",
       "  'PCA_72',\n",
       "  'PCA_73',\n",
       "  'PCA_74',\n",
       "  'PCA_75',\n",
       "  'PCA_76',\n",
       "  'PCA_77',\n",
       "  'PCA_78',\n",
       "  'PCA_79'])"
      ]
     },
     "execution_count": 29,
     "metadata": {},
     "output_type": "execute_result"
    }
   ],
   "source": [
    "data['gender'] = data['gender'].astype('object')\n",
    "data['exp_group'] = data['exp_group'].astype('object')\n",
    "\n",
    "cat_cols = list(data.select_dtypes(include='object').columns) \n",
    "num_cols = list(data.select_dtypes(exclude='object').columns) \n",
    "cat_cols, num_cols"
   ]
  },
  {
   "cell_type": "code",
   "execution_count": 30,
   "metadata": {},
   "outputs": [
    {
     "name": "stderr",
     "output_type": "stream",
     "text": [
      "c:\\Users\\Пользователь\\AppData\\Local\\Programs\\Python\\Python39\\lib\\site-packages\\pandas\\core\\algorithms.py:798: FutureWarning: In a future version, the Index constructor will not infer numeric dtypes when passed object-dtype sequences (matching Series behavior)\n",
      "  uniques = Index(uniques)\n"
     ]
    }
   ],
   "source": [
    "def new_features(data, cat_cols):\n",
    "    data['hour'] = pd.to_datetime(data.timestamp).apply(lambda x: x.hour)\n",
    "    data['month'] = pd.to_datetime(data.timestamp).apply(lambda x: x.month)\n",
    "    data['day_of_week'] = pd.to_datetime(data.timestamp).apply(lambda x: x.day_of_week)\n",
    "\n",
    "    for col in cat_cols:\n",
    "        if data[col].nunique() < 3:\n",
    "            ohe = pd.get_dummies(data[col], prefix=col, drop_first=True)\n",
    "            data = pd.concat((ohe, data.drop(col, axis=1)), axis=1)\n",
    "            \n",
    "    return data\n",
    "\n",
    "data = new_features(data=data, cat_cols=cat_cols)"
   ]
  },
  {
   "cell_type": "code",
   "execution_count": 31,
   "metadata": {},
   "outputs": [
    {
     "data": {
      "text/html": [
       "<div>\n",
       "<style scoped>\n",
       "    .dataframe tbody tr th:only-of-type {\n",
       "        vertical-align: middle;\n",
       "    }\n",
       "\n",
       "    .dataframe tbody tr th {\n",
       "        vertical-align: top;\n",
       "    }\n",
       "\n",
       "    .dataframe thead th {\n",
       "        text-align: right;\n",
       "    }\n",
       "</style>\n",
       "<table border=\"1\" class=\"dataframe\">\n",
       "  <thead>\n",
       "    <tr style=\"text-align: right;\">\n",
       "      <th></th>\n",
       "      <th></th>\n",
       "      <th>os_iOS</th>\n",
       "      <th>gender_1</th>\n",
       "      <th>timestamp</th>\n",
       "      <th>target</th>\n",
       "      <th>age</th>\n",
       "      <th>country</th>\n",
       "      <th>city</th>\n",
       "      <th>exp_group</th>\n",
       "      <th>topic</th>\n",
       "      <th>PCA_0</th>\n",
       "      <th>...</th>\n",
       "      <th>PCA_73</th>\n",
       "      <th>PCA_74</th>\n",
       "      <th>PCA_75</th>\n",
       "      <th>PCA_76</th>\n",
       "      <th>PCA_77</th>\n",
       "      <th>PCA_78</th>\n",
       "      <th>PCA_79</th>\n",
       "      <th>hour</th>\n",
       "      <th>month</th>\n",
       "      <th>day_of_week</th>\n",
       "    </tr>\n",
       "    <tr>\n",
       "      <th>user_id</th>\n",
       "      <th>post_id</th>\n",
       "      <th></th>\n",
       "      <th></th>\n",
       "      <th></th>\n",
       "      <th></th>\n",
       "      <th></th>\n",
       "      <th></th>\n",
       "      <th></th>\n",
       "      <th></th>\n",
       "      <th></th>\n",
       "      <th></th>\n",
       "      <th></th>\n",
       "      <th></th>\n",
       "      <th></th>\n",
       "      <th></th>\n",
       "      <th></th>\n",
       "      <th></th>\n",
       "      <th></th>\n",
       "      <th></th>\n",
       "      <th></th>\n",
       "      <th></th>\n",
       "      <th></th>\n",
       "    </tr>\n",
       "  </thead>\n",
       "  <tbody>\n",
       "    <tr>\n",
       "      <th rowspan=\"5\" valign=\"top\">200</th>\n",
       "      <th>28</th>\n",
       "      <td>0</td>\n",
       "      <td>1</td>\n",
       "      <td>2021-11-13 19:56:24</td>\n",
       "      <td>0</td>\n",
       "      <td>34</td>\n",
       "      <td>Russia</td>\n",
       "      <td>Degtyarsk</td>\n",
       "      <td>3</td>\n",
       "      <td>business</td>\n",
       "      <td>0.035194</td>\n",
       "      <td>...</td>\n",
       "      <td>-0.031591</td>\n",
       "      <td>-0.007238</td>\n",
       "      <td>0.010260</td>\n",
       "      <td>-0.001653</td>\n",
       "      <td>-0.021841</td>\n",
       "      <td>-0.016983</td>\n",
       "      <td>0.018639</td>\n",
       "      <td>19</td>\n",
       "      <td>11</td>\n",
       "      <td>5</td>\n",
       "    </tr>\n",
       "    <tr>\n",
       "      <th>2</th>\n",
       "      <td>0</td>\n",
       "      <td>1</td>\n",
       "      <td>2021-10-29 19:24:04</td>\n",
       "      <td>0</td>\n",
       "      <td>34</td>\n",
       "      <td>Russia</td>\n",
       "      <td>Degtyarsk</td>\n",
       "      <td>3</td>\n",
       "      <td>business</td>\n",
       "      <td>-0.108728</td>\n",
       "      <td>...</td>\n",
       "      <td>0.005191</td>\n",
       "      <td>0.018754</td>\n",
       "      <td>0.025230</td>\n",
       "      <td>-0.018209</td>\n",
       "      <td>-0.002600</td>\n",
       "      <td>0.000687</td>\n",
       "      <td>0.017617</td>\n",
       "      <td>19</td>\n",
       "      <td>10</td>\n",
       "      <td>4</td>\n",
       "    </tr>\n",
       "    <tr>\n",
       "      <th>7042</th>\n",
       "      <td>0</td>\n",
       "      <td>1</td>\n",
       "      <td>2021-12-24 14:00:21</td>\n",
       "      <td>0</td>\n",
       "      <td>34</td>\n",
       "      <td>Russia</td>\n",
       "      <td>Degtyarsk</td>\n",
       "      <td>3</td>\n",
       "      <td>movie</td>\n",
       "      <td>-0.085597</td>\n",
       "      <td>...</td>\n",
       "      <td>0.001836</td>\n",
       "      <td>-0.018078</td>\n",
       "      <td>-0.006285</td>\n",
       "      <td>-0.024559</td>\n",
       "      <td>0.009348</td>\n",
       "      <td>-0.022899</td>\n",
       "      <td>-0.010656</td>\n",
       "      <td>14</td>\n",
       "      <td>12</td>\n",
       "      <td>4</td>\n",
       "    </tr>\n",
       "    <tr>\n",
       "      <th>438</th>\n",
       "      <td>0</td>\n",
       "      <td>1</td>\n",
       "      <td>2021-10-06 15:26:01</td>\n",
       "      <td>0</td>\n",
       "      <td>34</td>\n",
       "      <td>Russia</td>\n",
       "      <td>Degtyarsk</td>\n",
       "      <td>3</td>\n",
       "      <td>business</td>\n",
       "      <td>-0.100397</td>\n",
       "      <td>...</td>\n",
       "      <td>-0.001784</td>\n",
       "      <td>-0.018507</td>\n",
       "      <td>-0.011443</td>\n",
       "      <td>0.012857</td>\n",
       "      <td>-0.017541</td>\n",
       "      <td>-0.008656</td>\n",
       "      <td>0.001994</td>\n",
       "      <td>15</td>\n",
       "      <td>10</td>\n",
       "      <td>2</td>\n",
       "    </tr>\n",
       "    <tr>\n",
       "      <th>1141</th>\n",
       "      <td>0</td>\n",
       "      <td>1</td>\n",
       "      <td>2021-10-06 15:15:32</td>\n",
       "      <td>0</td>\n",
       "      <td>34</td>\n",
       "      <td>Russia</td>\n",
       "      <td>Degtyarsk</td>\n",
       "      <td>3</td>\n",
       "      <td>politics</td>\n",
       "      <td>-0.214752</td>\n",
       "      <td>...</td>\n",
       "      <td>-0.010406</td>\n",
       "      <td>0.006134</td>\n",
       "      <td>0.008439</td>\n",
       "      <td>0.013260</td>\n",
       "      <td>-0.038578</td>\n",
       "      <td>-0.043137</td>\n",
       "      <td>0.006578</td>\n",
       "      <td>15</td>\n",
       "      <td>10</td>\n",
       "      <td>2</td>\n",
       "    </tr>\n",
       "  </tbody>\n",
       "</table>\n",
       "<p>5 rows × 92 columns</p>\n",
       "</div>"
      ],
      "text/plain": [
       "                 os_iOS  gender_1           timestamp  target  age country  \\\n",
       "user_id post_id                                                              \n",
       "200     28            0         1 2021-11-13 19:56:24       0   34  Russia   \n",
       "        2             0         1 2021-10-29 19:24:04       0   34  Russia   \n",
       "        7042          0         1 2021-12-24 14:00:21       0   34  Russia   \n",
       "        438           0         1 2021-10-06 15:26:01       0   34  Russia   \n",
       "        1141          0         1 2021-10-06 15:15:32       0   34  Russia   \n",
       "\n",
       "                      city exp_group     topic     PCA_0  ...    PCA_73  \\\n",
       "user_id post_id                                           ...             \n",
       "200     28       Degtyarsk         3  business  0.035194  ... -0.031591   \n",
       "        2        Degtyarsk         3  business -0.108728  ...  0.005191   \n",
       "        7042     Degtyarsk         3     movie -0.085597  ...  0.001836   \n",
       "        438      Degtyarsk         3  business -0.100397  ... -0.001784   \n",
       "        1141     Degtyarsk         3  politics -0.214752  ... -0.010406   \n",
       "\n",
       "                   PCA_74    PCA_75    PCA_76    PCA_77    PCA_78    PCA_79  \\\n",
       "user_id post_id                                                               \n",
       "200     28      -0.007238  0.010260 -0.001653 -0.021841 -0.016983  0.018639   \n",
       "        2        0.018754  0.025230 -0.018209 -0.002600  0.000687  0.017617   \n",
       "        7042    -0.018078 -0.006285 -0.024559  0.009348 -0.022899 -0.010656   \n",
       "        438     -0.018507 -0.011443  0.012857 -0.017541 -0.008656  0.001994   \n",
       "        1141     0.006134  0.008439  0.013260 -0.038578 -0.043137  0.006578   \n",
       "\n",
       "                 hour  month  day_of_week  \n",
       "user_id post_id                            \n",
       "200     28         19     11            5  \n",
       "        2          19     10            4  \n",
       "        7042       14     12            4  \n",
       "        438        15     10            2  \n",
       "        1141       15     10            2  \n",
       "\n",
       "[5 rows x 92 columns]"
      ]
     },
     "execution_count": 31,
     "metadata": {},
     "output_type": "execute_result"
    }
   ],
   "source": [
    "data.head()"
   ]
  },
  {
   "cell_type": "code",
   "execution_count": 32,
   "metadata": {},
   "outputs": [
    {
     "data": {
      "text/plain": [
       "(Timestamp('2021-10-01 06:07:31'), Timestamp('2021-12-29 23:18:03'))"
      ]
     },
     "execution_count": 32,
     "metadata": {},
     "output_type": "execute_result"
    }
   ],
   "source": [
    "data['timestamp'].min(), data['timestamp'].max()"
   ]
  },
  {
   "cell_type": "markdown",
   "metadata": {},
   "source": [
    "#### Splitting data of timestamp"
   ]
  },
  {
   "cell_type": "code",
   "execution_count": 33,
   "metadata": {},
   "outputs": [],
   "source": [
    "def split_data(data):\n",
    "    data_train = data[data['timestamp'] < '2021-12-10 00:00:00']\n",
    "    data_test = data[data['timestamp'] >= '2021-12-10 00:00:00']\n",
    "\n",
    "    data_train = data_train.drop('timestamp', axis=1)\n",
    "    data_test = data_test.drop('timestamp', axis=1)\n",
    "\n",
    "    X_train, X_test = data_train.drop('target', axis=1), data_test.drop('target', axis=1)\n",
    "    y_train, y_test = data_train['target'], data_test['target']\n",
    "\n",
    "    return X_train, X_test, y_train, y_test\n",
    "\n",
    "X_train, X_test, y_train, y_test = split_data(data)"
   ]
  },
  {
   "cell_type": "code",
   "execution_count": 34,
   "metadata": {},
   "outputs": [
    {
     "data": {
      "text/plain": [
       "((69873, 90), (19451, 90))"
      ]
     },
     "execution_count": 34,
     "metadata": {},
     "output_type": "execute_result"
    }
   ],
   "source": [
    "X_train.shape, X_test.shape"
   ]
  },
  {
   "cell_type": "markdown",
   "metadata": {},
   "source": [
    "## 3. Training"
   ]
  },
  {
   "cell_type": "markdown",
   "metadata": {},
   "source": [
    "####  Function where probabilities are sorted"
   ]
  },
  {
   "cell_type": "code",
   "execution_count": 35,
   "metadata": {},
   "outputs": [],
   "source": [
    "def probs(X, y, model, top = 5):\n",
    "    indexes_u = [x[0] for x in X.index.values.tolist()]\n",
    "    indexes_p = [x[1] for x in X.index.values.tolist()]\n",
    "    res = model.predict_proba(X)\n",
    "    res[:,1].tolist()\n",
    "\n",
    "    predictions_df = pd.DataFrame({\n",
    "        'user_id': indexes_u,\n",
    "        'post_id': indexes_p,\n",
    "        'recommendation_proba': res[:,1]\n",
    "    }).sort_values(by='user_id')\n",
    "\n",
    "    def sorted_prob(group):\n",
    "        group = group.nlargest(top, 'recommendation_proba')\n",
    "        return group\n",
    "\n",
    "    predictions_df_group = predictions_df.groupby('user_id').apply(sorted_prob)\n",
    "    predictions_df_group.reset_index(drop=True, inplace=True)\n",
    "    final_df = pd.merge(predictions_df_group, y, left_on=['user_id', 'post_id'], right_index=True, how='left')\n",
    "    return final_df.set_index(['user_id', 'post_id'])"
   ]
  },
  {
   "cell_type": "markdown",
   "metadata": {},
   "source": [
    "#### Catboost with default parametrs and 100 iterations"
   ]
  },
  {
   "cell_type": "code",
   "execution_count": 36,
   "metadata": {},
   "outputs": [
    {
     "name": "stdout",
     "output_type": "stream",
     "text": [
      "Learning rate set to 0.5\n",
      "0:\tlearn: 0.4224884\ttotal: 337ms\tremaining: 33.4s\n",
      "1:\tlearn: 0.3665693\ttotal: 717ms\tremaining: 35.1s\n",
      "2:\tlearn: 0.3509309\ttotal: 972ms\tremaining: 31.4s\n",
      "3:\tlearn: 0.3468547\ttotal: 1.22s\tremaining: 29.3s\n",
      "4:\tlearn: 0.3432183\ttotal: 1.42s\tremaining: 27s\n",
      "5:\tlearn: 0.3418400\ttotal: 1.65s\tremaining: 25.9s\n",
      "6:\tlearn: 0.3405611\ttotal: 1.85s\tremaining: 24.6s\n",
      "7:\tlearn: 0.3398249\ttotal: 1.98s\tremaining: 22.8s\n",
      "8:\tlearn: 0.3392662\ttotal: 2.13s\tremaining: 21.6s\n",
      "9:\tlearn: 0.3386693\ttotal: 2.26s\tremaining: 20.4s\n",
      "10:\tlearn: 0.3381786\ttotal: 2.41s\tremaining: 19.5s\n",
      "11:\tlearn: 0.3377053\ttotal: 2.55s\tremaining: 18.7s\n",
      "12:\tlearn: 0.3374370\ttotal: 2.69s\tremaining: 18s\n",
      "13:\tlearn: 0.3368031\ttotal: 2.84s\tremaining: 17.5s\n",
      "14:\tlearn: 0.3366266\ttotal: 3.01s\tremaining: 17.1s\n",
      "15:\tlearn: 0.3361610\ttotal: 3.15s\tremaining: 16.5s\n",
      "16:\tlearn: 0.3357808\ttotal: 3.25s\tremaining: 15.9s\n",
      "17:\tlearn: 0.3355317\ttotal: 3.36s\tremaining: 15.3s\n",
      "18:\tlearn: 0.3355073\ttotal: 3.41s\tremaining: 14.5s\n",
      "19:\tlearn: 0.3350268\ttotal: 3.51s\tremaining: 14s\n",
      "20:\tlearn: 0.3343198\ttotal: 3.62s\tremaining: 13.6s\n",
      "21:\tlearn: 0.3336900\ttotal: 3.72s\tremaining: 13.2s\n",
      "22:\tlearn: 0.3331730\ttotal: 3.82s\tremaining: 12.8s\n",
      "23:\tlearn: 0.3310942\ttotal: 3.93s\tremaining: 12.4s\n",
      "24:\tlearn: 0.3305077\ttotal: 4.03s\tremaining: 12.1s\n",
      "25:\tlearn: 0.3299797\ttotal: 4.14s\tremaining: 11.8s\n",
      "26:\tlearn: 0.3295529\ttotal: 4.25s\tremaining: 11.5s\n",
      "27:\tlearn: 0.3290841\ttotal: 4.36s\tremaining: 11.2s\n",
      "28:\tlearn: 0.3287550\ttotal: 4.46s\tremaining: 10.9s\n",
      "29:\tlearn: 0.3280916\ttotal: 4.56s\tremaining: 10.6s\n",
      "30:\tlearn: 0.3267427\ttotal: 4.67s\tremaining: 10.4s\n",
      "31:\tlearn: 0.3260721\ttotal: 4.77s\tremaining: 10.1s\n",
      "32:\tlearn: 0.3255787\ttotal: 4.87s\tremaining: 9.89s\n",
      "33:\tlearn: 0.3249105\ttotal: 4.99s\tremaining: 9.69s\n",
      "34:\tlearn: 0.3242984\ttotal: 5.12s\tremaining: 9.5s\n",
      "35:\tlearn: 0.3237142\ttotal: 5.23s\tremaining: 9.3s\n",
      "36:\tlearn: 0.3233453\ttotal: 5.33s\tremaining: 9.07s\n",
      "37:\tlearn: 0.3227959\ttotal: 5.45s\tremaining: 8.89s\n",
      "38:\tlearn: 0.3222315\ttotal: 5.56s\tremaining: 8.7s\n",
      "39:\tlearn: 0.3216086\ttotal: 5.66s\tremaining: 8.49s\n",
      "40:\tlearn: 0.3209271\ttotal: 5.78s\tremaining: 8.31s\n",
      "41:\tlearn: 0.3206110\ttotal: 5.9s\tremaining: 8.15s\n",
      "42:\tlearn: 0.3196089\ttotal: 6s\tremaining: 7.96s\n",
      "43:\tlearn: 0.3188361\ttotal: 6.12s\tremaining: 7.79s\n",
      "44:\tlearn: 0.3183848\ttotal: 6.23s\tremaining: 7.61s\n",
      "45:\tlearn: 0.3176683\ttotal: 6.33s\tremaining: 7.43s\n",
      "46:\tlearn: 0.3173875\ttotal: 6.43s\tremaining: 7.25s\n",
      "47:\tlearn: 0.3169549\ttotal: 6.53s\tremaining: 7.07s\n",
      "48:\tlearn: 0.3163619\ttotal: 6.64s\tremaining: 6.91s\n",
      "49:\tlearn: 0.3157743\ttotal: 6.76s\tremaining: 6.76s\n",
      "50:\tlearn: 0.3154450\ttotal: 6.87s\tremaining: 6.6s\n",
      "51:\tlearn: 0.3152939\ttotal: 7s\tremaining: 6.46s\n",
      "52:\tlearn: 0.3149591\ttotal: 7.12s\tremaining: 6.32s\n",
      "53:\tlearn: 0.3142231\ttotal: 7.23s\tremaining: 6.16s\n",
      "54:\tlearn: 0.3138763\ttotal: 7.33s\tremaining: 6s\n",
      "55:\tlearn: 0.3132867\ttotal: 7.44s\tremaining: 5.85s\n",
      "56:\tlearn: 0.3130277\ttotal: 7.55s\tremaining: 5.7s\n",
      "57:\tlearn: 0.3123604\ttotal: 7.67s\tremaining: 5.55s\n",
      "58:\tlearn: 0.3118607\ttotal: 7.8s\tremaining: 5.42s\n",
      "59:\tlearn: 0.3115639\ttotal: 8.01s\tremaining: 5.34s\n",
      "60:\tlearn: 0.3109719\ttotal: 8.19s\tremaining: 5.23s\n",
      "61:\tlearn: 0.3105411\ttotal: 8.44s\tremaining: 5.17s\n",
      "62:\tlearn: 0.3102997\ttotal: 8.75s\tremaining: 5.14s\n",
      "63:\tlearn: 0.3099244\ttotal: 9.1s\tremaining: 5.12s\n",
      "64:\tlearn: 0.3095938\ttotal: 9.4s\tremaining: 5.06s\n",
      "65:\tlearn: 0.3092011\ttotal: 9.6s\tremaining: 4.95s\n",
      "66:\tlearn: 0.3085564\ttotal: 9.73s\tremaining: 4.79s\n",
      "67:\tlearn: 0.3080029\ttotal: 10.1s\tremaining: 4.74s\n",
      "68:\tlearn: 0.3075384\ttotal: 10.4s\tremaining: 4.66s\n",
      "69:\tlearn: 0.3071846\ttotal: 10.6s\tremaining: 4.53s\n",
      "70:\tlearn: 0.3067697\ttotal: 10.8s\tremaining: 4.39s\n",
      "71:\tlearn: 0.3062048\ttotal: 10.9s\tremaining: 4.25s\n",
      "72:\tlearn: 0.3060297\ttotal: 11.1s\tremaining: 4.11s\n",
      "73:\tlearn: 0.3055566\ttotal: 11.3s\tremaining: 3.97s\n",
      "74:\tlearn: 0.3050680\ttotal: 11.5s\tremaining: 3.83s\n",
      "75:\tlearn: 0.3044743\ttotal: 11.6s\tremaining: 3.67s\n",
      "76:\tlearn: 0.3037888\ttotal: 11.8s\tremaining: 3.52s\n",
      "77:\tlearn: 0.3031287\ttotal: 11.9s\tremaining: 3.37s\n",
      "78:\tlearn: 0.3026000\ttotal: 12.1s\tremaining: 3.22s\n",
      "79:\tlearn: 0.3021171\ttotal: 12.4s\tremaining: 3.09s\n",
      "80:\tlearn: 0.3015450\ttotal: 12.7s\tremaining: 2.98s\n",
      "81:\tlearn: 0.3010238\ttotal: 12.9s\tremaining: 2.83s\n",
      "82:\tlearn: 0.3006778\ttotal: 13.2s\tremaining: 2.69s\n",
      "83:\tlearn: 0.3000468\ttotal: 13.4s\tremaining: 2.56s\n",
      "84:\tlearn: 0.2997353\ttotal: 13.6s\tremaining: 2.41s\n",
      "85:\tlearn: 0.2992759\ttotal: 13.9s\tremaining: 2.26s\n",
      "86:\tlearn: 0.2988688\ttotal: 14.1s\tremaining: 2.1s\n",
      "87:\tlearn: 0.2985009\ttotal: 14.2s\tremaining: 1.94s\n",
      "88:\tlearn: 0.2981823\ttotal: 14.3s\tremaining: 1.77s\n",
      "89:\tlearn: 0.2977100\ttotal: 14.5s\tremaining: 1.61s\n",
      "90:\tlearn: 0.2972519\ttotal: 14.6s\tremaining: 1.45s\n",
      "91:\tlearn: 0.2968440\ttotal: 15s\tremaining: 1.3s\n",
      "92:\tlearn: 0.2964184\ttotal: 15.2s\tremaining: 1.14s\n",
      "93:\tlearn: 0.2959599\ttotal: 15.4s\tremaining: 980ms\n",
      "94:\tlearn: 0.2952717\ttotal: 15.5s\tremaining: 817ms\n",
      "95:\tlearn: 0.2949810\ttotal: 15.7s\tremaining: 653ms\n",
      "96:\tlearn: 0.2945349\ttotal: 15.8s\tremaining: 490ms\n",
      "97:\tlearn: 0.2940759\ttotal: 16.1s\tremaining: 329ms\n",
      "98:\tlearn: 0.2936545\ttotal: 16.4s\tremaining: 166ms\n",
      "99:\tlearn: 0.2932102\ttotal: 16.8s\tremaining: 0us\n"
     ]
    },
    {
     "data": {
      "text/plain": [
       "<catboost.core.CatBoostClassifier at 0x234e14d4af0>"
      ]
     },
     "execution_count": 36,
     "metadata": {},
     "output_type": "execute_result"
    }
   ],
   "source": [
    "from catboost import CatBoostClassifier\n",
    "from sklearn.metrics import roc_auc_score, classification_report\n",
    "\n",
    "cb_def = CatBoostClassifier(random_state=12345, verbose=1, iterations=100, cat_features=list(data.select_dtypes(include='object').columns))\n",
    "cb_def.fit(X_train, y_train)"
   ]
  },
  {
   "cell_type": "markdown",
   "metadata": {},
   "source": [
    "#### Quality metrics results"
   ]
  },
  {
   "cell_type": "code",
   "execution_count": 37,
   "metadata": {},
   "outputs": [
    {
     "name": "stdout",
     "output_type": "stream",
     "text": [
      "ROC-AUC TRAIN: 0.8053440293774154\n",
      "ROC-AUC TEST: 0.5968072230209598\n"
     ]
    }
   ],
   "source": [
    "print(f'ROC-AUC TRAIN: {roc_auc_score(y_train, cb_def.predict_proba(X_train)[:,1])}')\n",
    "print(f'ROC-AUC TEST: {roc_auc_score(y_test, cb_def.predict_proba(X_test)[:,1])}')"
   ]
  },
  {
   "cell_type": "code",
   "execution_count": 38,
   "metadata": {},
   "outputs": [
    {
     "name": "stdout",
     "output_type": "stream",
     "text": [
      "Train:\n",
      "              precision    recall  f1-score   support\n",
      "\n",
      "           0       0.89      1.00      0.94     61932\n",
      "           1       0.87      0.04      0.08      7941\n",
      "\n",
      "    accuracy                           0.89     69873\n",
      "   macro avg       0.88      0.52      0.51     69873\n",
      "weighted avg       0.89      0.89      0.84     69873\n",
      "\n",
      "Test:\n",
      "              precision    recall  f1-score   support\n",
      "\n",
      "           0       0.86      0.99      0.92     16787\n",
      "           1       0.22      0.01      0.02      2664\n",
      "\n",
      "    accuracy                           0.86     19451\n",
      "   macro avg       0.54      0.50      0.47     19451\n",
      "weighted avg       0.78      0.86      0.80     19451\n",
      "\n"
     ]
    }
   ],
   "source": [
    "print('Train:')\n",
    "print(classification_report(y_train, cb_def.predict(X_train)))\n",
    "print('Test:')\n",
    "print(classification_report(y_test, cb_def.predict(X_test)))"
   ]
  },
  {
   "cell_type": "code",
   "execution_count": 39,
   "metadata": {},
   "outputs": [
    {
     "data": {
      "text/html": [
       "<div>\n",
       "<style scoped>\n",
       "    .dataframe tbody tr th:only-of-type {\n",
       "        vertical-align: middle;\n",
       "    }\n",
       "\n",
       "    .dataframe tbody tr th {\n",
       "        vertical-align: top;\n",
       "    }\n",
       "\n",
       "    .dataframe thead th {\n",
       "        text-align: right;\n",
       "    }\n",
       "</style>\n",
       "<table border=\"1\" class=\"dataframe\">\n",
       "  <thead>\n",
       "    <tr style=\"text-align: right;\">\n",
       "      <th></th>\n",
       "      <th></th>\n",
       "      <th>recommendation_proba</th>\n",
       "      <th>target</th>\n",
       "    </tr>\n",
       "    <tr>\n",
       "      <th>user_id</th>\n",
       "      <th>post_id</th>\n",
       "      <th></th>\n",
       "      <th></th>\n",
       "    </tr>\n",
       "  </thead>\n",
       "  <tbody>\n",
       "    <tr>\n",
       "      <th rowspan=\"5\" valign=\"top\">200</th>\n",
       "      <th>1452</th>\n",
       "      <td>0.225067</td>\n",
       "      <td>1</td>\n",
       "    </tr>\n",
       "    <tr>\n",
       "      <th>3413</th>\n",
       "      <td>0.164250</td>\n",
       "      <td>0</td>\n",
       "    </tr>\n",
       "    <tr>\n",
       "      <th>3232</th>\n",
       "      <td>0.144100</td>\n",
       "      <td>0</td>\n",
       "    </tr>\n",
       "    <tr>\n",
       "      <th>7042</th>\n",
       "      <td>0.123202</td>\n",
       "      <td>0</td>\n",
       "    </tr>\n",
       "    <tr>\n",
       "      <th>5558</th>\n",
       "      <td>0.121418</td>\n",
       "      <td>0</td>\n",
       "    </tr>\n",
       "    <tr>\n",
       "      <th rowspan=\"5\" valign=\"top\">201</th>\n",
       "      <th>1195</th>\n",
       "      <td>0.400222</td>\n",
       "      <td>0</td>\n",
       "    </tr>\n",
       "    <tr>\n",
       "      <th>4770</th>\n",
       "      <td>0.352804</td>\n",
       "      <td>0</td>\n",
       "    </tr>\n",
       "    <tr>\n",
       "      <th>1410</th>\n",
       "      <td>0.295747</td>\n",
       "      <td>0</td>\n",
       "    </tr>\n",
       "    <tr>\n",
       "      <th>1755</th>\n",
       "      <td>0.224065</td>\n",
       "      <td>0</td>\n",
       "    </tr>\n",
       "    <tr>\n",
       "      <th>1718</th>\n",
       "      <td>0.194019</td>\n",
       "      <td>0</td>\n",
       "    </tr>\n",
       "  </tbody>\n",
       "</table>\n",
       "</div>"
      ],
      "text/plain": [
       "                 recommendation_proba  target\n",
       "user_id post_id                              \n",
       "200     1452                 0.225067       1\n",
       "        3413                 0.164250       0\n",
       "        3232                 0.144100       0\n",
       "        7042                 0.123202       0\n",
       "        5558                 0.121418       0\n",
       "201     1195                 0.400222       0\n",
       "        4770                 0.352804       0\n",
       "        1410                 0.295747       0\n",
       "        1755                 0.224065       0\n",
       "        1718                 0.194019       0"
      ]
     },
     "execution_count": 39,
     "metadata": {},
     "output_type": "execute_result"
    }
   ],
   "source": [
    "prediction_train = probs(X_train, y_train, cb_def)\n",
    "prediction_test = probs(X_test, y_test, cb_def)\n",
    "prediction_test.head(10)"
   ]
  },
  {
   "cell_type": "markdown",
   "metadata": {},
   "source": [
    "#### Hitrate metric:"
   ]
  },
  {
   "cell_type": "code",
   "execution_count": 40,
   "metadata": {},
   "outputs": [],
   "source": [
    "def hitrate(predictions):\n",
    "    arr_hit = []\n",
    "    n_users = predictions.index.get_level_values('user_id').nunique()\n",
    "\n",
    "    sum_hit = predictions.groupby('user_id')['target'].sum()\n",
    "\n",
    "    for i in sum_hit:\n",
    "        if i > 0:\n",
    "            arr_hit.append(1)\n",
    "        else:\n",
    "            arr_hit.append(0)\n",
    "\n",
    "    hitrate = np.mean(arr_hit)\n",
    "    \n",
    "    return hitrate"
   ]
  },
  {
   "cell_type": "code",
   "execution_count": 41,
   "metadata": {},
   "outputs": [
    {
     "name": "stdout",
     "output_type": "stream",
     "text": [
      "Среднее hitrate@5 train: 0.8751545117428925\n",
      "Среднее hitrate@5 test: 0.5522193211488251\n"
     ]
    }
   ],
   "source": [
    "train_hitrate = hitrate(prediction_train)\n",
    "test_hitrate = hitrate(prediction_test)\n",
    "\n",
    "print(f'Среднее hitrate@5 train: {train_hitrate}')\n",
    "print(f'Среднее hitrate@5 test: {test_hitrate}')"
   ]
  },
  {
   "cell_type": "markdown",
   "metadata": {},
   "source": [
    "#### Function for highlighting important features"
   ]
  },
  {
   "cell_type": "code",
   "execution_count": 42,
   "metadata": {},
   "outputs": [],
   "source": [
    "def feature_importance(data, model):\n",
    "    fi_df = pd.DataFrame({\n",
    "        'feature_names': data.drop(['target', 'timestamp'], axis=1).columns,\n",
    "        'feature_importance': model.feature_importances_\n",
    "    }).sort_values(by='feature_importance', ascending=False)[:20]\n",
    "    return fi_df\n",
    "\n",
    "def plot_feature_importance(fi_df, model_type=str): \n",
    "    plt.figure(figsize=(10, 8))\n",
    "    sns.barplot(x='feature_importance', y='feature_names', data=fi_df)\n",
    "    plt.title(f'{model_type} top 20 feature importance')\n",
    "\n",
    "   "
   ]
  },
  {
   "cell_type": "code",
   "execution_count": 43,
   "metadata": {},
   "outputs": [
    {
     "data": {
      "image/png": "[encoded data removed]",
      "text/plain": [
       "<Figure size 1000x800 with 1 Axes>"
      ]
     },
     "metadata": {},
     "output_type": "display_data"
    }
   ],
   "source": [
    "col_top_20 = feature_importance(data=data, model=cb_def)\n",
    "plot_feature_importance(col_top_20, 'Catboost')"
   ]
  },
  {
   "cell_type": "markdown",
   "metadata": {},
   "source": [
    "#### Catboost with top-20 important features and 100 iterations"
   ]
  },
  {
   "cell_type": "code",
   "execution_count": 44,
   "metadata": {},
   "outputs": [
    {
     "name": "stdout",
     "output_type": "stream",
     "text": [
      "Learning rate set to 0.5\n",
      "0:\tlearn: 0.4203172\ttotal: 129ms\tremaining: 12.8s\n",
      "1:\tlearn: 0.3647837\ttotal: 266ms\tremaining: 13s\n",
      "2:\tlearn: 0.3519039\ttotal: 352ms\tremaining: 11.4s\n",
      "3:\tlearn: 0.3479081\ttotal: 437ms\tremaining: 10.5s\n",
      "4:\tlearn: 0.3438353\ttotal: 535ms\tremaining: 10.2s\n",
      "5:\tlearn: 0.3425748\ttotal: 651ms\tremaining: 10.2s\n",
      "6:\tlearn: 0.3420326\ttotal: 780ms\tremaining: 10.4s\n",
      "7:\tlearn: 0.3414622\ttotal: 900ms\tremaining: 10.4s\n",
      "8:\tlearn: 0.3413300\ttotal: 951ms\tremaining: 9.61s\n",
      "9:\tlearn: 0.3397339\ttotal: 1.05s\tremaining: 9.49s\n",
      "10:\tlearn: 0.3395138\ttotal: 1.15s\tremaining: 9.28s\n",
      "11:\tlearn: 0.3390859\ttotal: 1.24s\tremaining: 9.1s\n",
      "12:\tlearn: 0.3388249\ttotal: 1.33s\tremaining: 8.92s\n",
      "13:\tlearn: 0.3384736\ttotal: 1.41s\tremaining: 8.69s\n",
      "14:\tlearn: 0.3379578\ttotal: 1.5s\tremaining: 8.48s\n",
      "15:\tlearn: 0.3376730\ttotal: 1.58s\tremaining: 8.29s\n",
      "16:\tlearn: 0.3372092\ttotal: 1.66s\tremaining: 8.11s\n",
      "17:\tlearn: 0.3369882\ttotal: 1.74s\tremaining: 7.92s\n",
      "18:\tlearn: 0.3364395\ttotal: 1.83s\tremaining: 7.79s\n",
      "19:\tlearn: 0.3342472\ttotal: 1.91s\tremaining: 7.64s\n",
      "20:\tlearn: 0.3337433\ttotal: 1.99s\tremaining: 7.49s\n",
      "21:\tlearn: 0.3333959\ttotal: 2.08s\tremaining: 7.38s\n",
      "22:\tlearn: 0.3326064\ttotal: 2.16s\tremaining: 7.24s\n",
      "23:\tlearn: 0.3321638\ttotal: 2.24s\tremaining: 7.1s\n",
      "24:\tlearn: 0.3317660\ttotal: 2.33s\tremaining: 6.98s\n",
      "25:\tlearn: 0.3313448\ttotal: 2.41s\tremaining: 6.85s\n",
      "26:\tlearn: 0.3307842\ttotal: 2.49s\tremaining: 6.73s\n",
      "27:\tlearn: 0.3303669\ttotal: 2.57s\tremaining: 6.62s\n",
      "28:\tlearn: 0.3302967\ttotal: 2.65s\tremaining: 6.49s\n",
      "29:\tlearn: 0.3298752\ttotal: 2.75s\tremaining: 6.41s\n",
      "30:\tlearn: 0.3292387\ttotal: 2.86s\tremaining: 6.36s\n",
      "31:\tlearn: 0.3286969\ttotal: 2.96s\tremaining: 6.29s\n",
      "32:\tlearn: 0.3281069\ttotal: 3.06s\tremaining: 6.21s\n",
      "33:\tlearn: 0.3277197\ttotal: 3.15s\tremaining: 6.11s\n",
      "34:\tlearn: 0.3270462\ttotal: 3.24s\tremaining: 6.02s\n",
      "35:\tlearn: 0.3263396\ttotal: 3.36s\tremaining: 5.97s\n",
      "36:\tlearn: 0.3259539\ttotal: 3.47s\tremaining: 5.9s\n",
      "37:\tlearn: 0.3253019\ttotal: 3.56s\tremaining: 5.81s\n",
      "38:\tlearn: 0.3247544\ttotal: 3.65s\tremaining: 5.72s\n",
      "39:\tlearn: 0.3243543\ttotal: 3.74s\tremaining: 5.61s\n",
      "40:\tlearn: 0.3240031\ttotal: 3.84s\tremaining: 5.53s\n",
      "41:\tlearn: 0.3236492\ttotal: 3.94s\tremaining: 5.43s\n",
      "42:\tlearn: 0.3234329\ttotal: 4.02s\tremaining: 5.33s\n",
      "43:\tlearn: 0.3230931\ttotal: 4.11s\tremaining: 5.23s\n",
      "44:\tlearn: 0.3230092\ttotal: 4.17s\tremaining: 5.1s\n",
      "45:\tlearn: 0.3225980\ttotal: 4.26s\tremaining: 5s\n",
      "46:\tlearn: 0.3220031\ttotal: 4.34s\tremaining: 4.9s\n",
      "47:\tlearn: 0.3216326\ttotal: 4.44s\tremaining: 4.81s\n",
      "48:\tlearn: 0.3211305\ttotal: 4.55s\tremaining: 4.74s\n",
      "49:\tlearn: 0.3206514\ttotal: 4.67s\tremaining: 4.67s\n",
      "50:\tlearn: 0.3203517\ttotal: 4.79s\tremaining: 4.6s\n",
      "51:\tlearn: 0.3199794\ttotal: 4.9s\tremaining: 4.53s\n",
      "52:\tlearn: 0.3197788\ttotal: 5.03s\tremaining: 4.46s\n",
      "53:\tlearn: 0.3193632\ttotal: 5.13s\tremaining: 4.37s\n",
      "54:\tlearn: 0.3188523\ttotal: 5.22s\tremaining: 4.27s\n",
      "55:\tlearn: 0.3184141\ttotal: 5.31s\tremaining: 4.17s\n",
      "56:\tlearn: 0.3179467\ttotal: 5.39s\tremaining: 4.07s\n",
      "57:\tlearn: 0.3177336\ttotal: 5.47s\tremaining: 3.96s\n",
      "58:\tlearn: 0.3172620\ttotal: 5.56s\tremaining: 3.86s\n",
      "59:\tlearn: 0.3168241\ttotal: 5.67s\tremaining: 3.78s\n",
      "60:\tlearn: 0.3163466\ttotal: 5.75s\tremaining: 3.67s\n",
      "61:\tlearn: 0.3163181\ttotal: 5.83s\tremaining: 3.57s\n",
      "62:\tlearn: 0.3157780\ttotal: 5.91s\tremaining: 3.47s\n",
      "63:\tlearn: 0.3154557\ttotal: 5.99s\tremaining: 3.37s\n",
      "64:\tlearn: 0.3150331\ttotal: 6.08s\tremaining: 3.27s\n",
      "65:\tlearn: 0.3148128\ttotal: 6.17s\tremaining: 3.18s\n",
      "66:\tlearn: 0.3145890\ttotal: 6.25s\tremaining: 3.08s\n",
      "67:\tlearn: 0.3142649\ttotal: 6.33s\tremaining: 2.98s\n",
      "68:\tlearn: 0.3137749\ttotal: 6.42s\tremaining: 2.88s\n",
      "69:\tlearn: 0.3132501\ttotal: 6.5s\tremaining: 2.79s\n",
      "70:\tlearn: 0.3128870\ttotal: 6.58s\tremaining: 2.69s\n",
      "71:\tlearn: 0.3125349\ttotal: 6.66s\tremaining: 2.59s\n",
      "72:\tlearn: 0.3123099\ttotal: 6.74s\tremaining: 2.49s\n",
      "73:\tlearn: 0.3119362\ttotal: 6.83s\tremaining: 2.4s\n",
      "74:\tlearn: 0.3113270\ttotal: 6.91s\tremaining: 2.3s\n",
      "75:\tlearn: 0.3108252\ttotal: 6.99s\tremaining: 2.21s\n",
      "76:\tlearn: 0.3103372\ttotal: 7.08s\tremaining: 2.11s\n",
      "77:\tlearn: 0.3100764\ttotal: 7.17s\tremaining: 2.02s\n",
      "78:\tlearn: 0.3095380\ttotal: 7.37s\tremaining: 1.96s\n",
      "79:\tlearn: 0.3093008\ttotal: 7.5s\tremaining: 1.88s\n",
      "80:\tlearn: 0.3089293\ttotal: 7.86s\tremaining: 1.84s\n",
      "81:\tlearn: 0.3085380\ttotal: 8.03s\tremaining: 1.76s\n",
      "82:\tlearn: 0.3081809\ttotal: 8.2s\tremaining: 1.68s\n",
      "83:\tlearn: 0.3078460\ttotal: 8.35s\tremaining: 1.59s\n",
      "84:\tlearn: 0.3074887\ttotal: 8.47s\tremaining: 1.49s\n",
      "85:\tlearn: 0.3072043\ttotal: 8.61s\tremaining: 1.4s\n",
      "86:\tlearn: 0.3070884\ttotal: 8.71s\tremaining: 1.3s\n",
      "87:\tlearn: 0.3065899\ttotal: 8.86s\tremaining: 1.21s\n",
      "88:\tlearn: 0.3063009\ttotal: 9.07s\tremaining: 1.12s\n",
      "89:\tlearn: 0.3058242\ttotal: 9.28s\tremaining: 1.03s\n",
      "90:\tlearn: 0.3055995\ttotal: 9.44s\tremaining: 933ms\n",
      "91:\tlearn: 0.3051672\ttotal: 9.58s\tremaining: 833ms\n",
      "92:\tlearn: 0.3049120\ttotal: 9.86s\tremaining: 742ms\n",
      "93:\tlearn: 0.3045379\ttotal: 10.1s\tremaining: 643ms\n",
      "94:\tlearn: 0.3042997\ttotal: 10.3s\tremaining: 542ms\n",
      "95:\tlearn: 0.3038886\ttotal: 10.6s\tremaining: 441ms\n",
      "96:\tlearn: 0.3035993\ttotal: 10.8s\tremaining: 335ms\n",
      "97:\tlearn: 0.3032620\ttotal: 11.1s\tremaining: 226ms\n",
      "98:\tlearn: 0.3029556\ttotal: 11.2s\tremaining: 113ms\n",
      "99:\tlearn: 0.3025406\ttotal: 11.5s\tremaining: 0us\n"
     ]
    },
    {
     "data": {
      "text/plain": [
       "<catboost.core.CatBoostClassifier at 0x234e14d4b80>"
      ]
     },
     "execution_count": 44,
     "metadata": {},
     "output_type": "execute_result"
    }
   ],
   "source": [
    "X_train_top_20, X_test_top_20 = X_train[col_top_20['feature_names'].tolist()], X_test[col_top_20['feature_names'].tolist()]\n",
    "\n",
    "cb_top_20 = CatBoostClassifier(random_state=12345, verbose=1, iterations=100, cat_features=list(X_train_top_20.select_dtypes(include='object').columns))\n",
    "cb_top_20.fit(X_train_top_20, y_train)"
   ]
  },
  {
   "cell_type": "code",
   "execution_count": 45,
   "metadata": {},
   "outputs": [
    {
     "name": "stdout",
     "output_type": "stream",
     "text": [
      "ROC-AUC TRAIN: 0.7783773595053938\n",
      "ROC-AUC TEST: 0.5944611101540571\n"
     ]
    }
   ],
   "source": [
    "print(f'ROC-AUC TRAIN: {roc_auc_score(y_train, cb_top_20.predict_proba(X_train_top_20)[:,1])}')\n",
    "print(f'ROC-AUC TEST: {roc_auc_score(y_test, cb_top_20.predict_proba(X_test_top_20)[:,1])}')"
   ]
  },
  {
   "cell_type": "code",
   "execution_count": 46,
   "metadata": {},
   "outputs": [
    {
     "name": "stdout",
     "output_type": "stream",
     "text": [
      "Train:\n"
     ]
    },
    {
     "name": "stdout",
     "output_type": "stream",
     "text": [
      "              precision    recall  f1-score   support\n",
      "\n",
      "           0       0.89      1.00      0.94     61932\n",
      "           1       0.87      0.03      0.06      7941\n",
      "\n",
      "    accuracy                           0.89     69873\n",
      "   macro avg       0.88      0.51      0.50     69873\n",
      "weighted avg       0.89      0.89      0.84     69873\n",
      "\n",
      "Test:\n",
      "              precision    recall  f1-score   support\n",
      "\n",
      "           0       0.86      1.00      0.92     16787\n",
      "           1       0.18      0.01      0.01      2664\n",
      "\n",
      "    accuracy                           0.86     19451\n",
      "   macro avg       0.52      0.50      0.47     19451\n",
      "weighted avg       0.77      0.86      0.80     19451\n",
      "\n"
     ]
    }
   ],
   "source": [
    "print('Train:')\n",
    "print(classification_report(y_train, cb_top_20.predict(X_train_top_20)))\n",
    "print('Test:')\n",
    "print(classification_report(y_test, cb_top_20.predict(X_test_top_20)))"
   ]
  },
  {
   "cell_type": "code",
   "execution_count": 47,
   "metadata": {},
   "outputs": [
    {
     "name": "stdout",
     "output_type": "stream",
     "text": [
      "Среднее hitrate@5 train: 0.8553770086526576\n",
      "Среднее hitrate@5 test: 0.54177545691906\n"
     ]
    }
   ],
   "source": [
    "prediction_train_top_20 = probs(X_train_top_20, y_train, cb_top_20)\n",
    "prediction_test_top_20 = probs(X_test_top_20, y_test, cb_top_20)\n",
    "\n",
    "print(f'Среднее hitrate@5 train: {hitrate(prediction_train_top_20)}')\n",
    "print(f'Среднее hitrate@5 test: {hitrate(prediction_test_top_20)}')"
   ]
  },
  {
   "cell_type": "markdown",
   "metadata": {},
   "source": [
    "После взятия топ 20 самых важных фичей, качество на тесте не улучшилось, но модель стала работать значительно быстрее, поэтому можно увеличить количество итераций."
   ]
  },
  {
   "cell_type": "code",
   "execution_count": 48,
   "metadata": {},
   "outputs": [
    {
     "name": "stdout",
     "output_type": "stream",
     "text": [
      "Learning rate set to 0.119261\n",
      "0:\tlearn: 0.6059795\ttotal: 127ms\tremaining: 1m 3s\n",
      "1:\tlearn: 0.5408754\ttotal: 235ms\tremaining: 58.4s\n",
      "2:\tlearn: 0.4924025\ttotal: 280ms\tremaining: 46.4s\n",
      "3:\tlearn: 0.4562653\ttotal: 341ms\tremaining: 42.3s\n",
      "4:\tlearn: 0.4285105\ttotal: 467ms\tremaining: 46.2s\n",
      "5:\tlearn: 0.4094142\ttotal: 570ms\tremaining: 46.9s\n",
      "6:\tlearn: 0.3946708\ttotal: 652ms\tremaining: 45.9s\n",
      "7:\tlearn: 0.3830473\ttotal: 770ms\tremaining: 47.4s\n",
      "8:\tlearn: 0.3748914\ttotal: 879ms\tremaining: 47.9s\n",
      "9:\tlearn: 0.3682039\ttotal: 973ms\tremaining: 47.7s\n",
      "10:\tlearn: 0.3633352\ttotal: 1.05s\tremaining: 46.7s\n",
      "11:\tlearn: 0.3596959\ttotal: 1.16s\tremaining: 47.3s\n",
      "12:\tlearn: 0.3560468\ttotal: 1.27s\tremaining: 47.6s\n",
      "13:\tlearn: 0.3539768\ttotal: 1.37s\tremaining: 47.7s\n",
      "14:\tlearn: 0.3513604\ttotal: 1.48s\tremaining: 47.7s\n",
      "15:\tlearn: 0.3491354\ttotal: 1.57s\tremaining: 47.6s\n",
      "16:\tlearn: 0.3472975\ttotal: 1.76s\tremaining: 50.1s\n",
      "17:\tlearn: 0.3463178\ttotal: 1.94s\tremaining: 52s\n",
      "18:\tlearn: 0.3453251\ttotal: 2.11s\tremaining: 53.3s\n",
      "19:\tlearn: 0.3444400\ttotal: 2.21s\tremaining: 53s\n",
      "20:\tlearn: 0.3439379\ttotal: 2.25s\tremaining: 51.3s\n",
      "21:\tlearn: 0.3434049\ttotal: 2.34s\tremaining: 50.9s\n",
      "22:\tlearn: 0.3430429\ttotal: 2.46s\tremaining: 51.1s\n",
      "23:\tlearn: 0.3426424\ttotal: 2.56s\tremaining: 50.8s\n",
      "24:\tlearn: 0.3422800\ttotal: 2.66s\tremaining: 50.5s\n",
      "25:\tlearn: 0.3418493\ttotal: 2.76s\tremaining: 50.4s\n",
      "26:\tlearn: 0.3416219\ttotal: 2.85s\tremaining: 49.9s\n",
      "27:\tlearn: 0.3413410\ttotal: 2.98s\tremaining: 50.2s\n",
      "28:\tlearn: 0.3410196\ttotal: 3.1s\tremaining: 50.3s\n",
      "29:\tlearn: 0.3406754\ttotal: 3.22s\tremaining: 50.4s\n",
      "30:\tlearn: 0.3405390\ttotal: 3.32s\tremaining: 50.2s\n",
      "31:\tlearn: 0.3403536\ttotal: 3.42s\tremaining: 50.1s\n",
      "32:\tlearn: 0.3402036\ttotal: 3.54s\tremaining: 50.1s\n",
      "33:\tlearn: 0.3400000\ttotal: 3.65s\tremaining: 50s\n",
      "34:\tlearn: 0.3396482\ttotal: 3.76s\tremaining: 49.9s\n",
      "35:\tlearn: 0.3395452\ttotal: 3.97s\tremaining: 51.2s\n",
      "36:\tlearn: 0.3393856\ttotal: 4.18s\tremaining: 52.3s\n",
      "37:\tlearn: 0.3392967\ttotal: 4.3s\tremaining: 52.3s\n",
      "38:\tlearn: 0.3391644\ttotal: 4.41s\tremaining: 52.1s\n",
      "39:\tlearn: 0.3390556\ttotal: 4.53s\tremaining: 52s\n",
      "40:\tlearn: 0.3384010\ttotal: 4.63s\tremaining: 51.9s\n",
      "41:\tlearn: 0.3382616\ttotal: 4.75s\tremaining: 51.8s\n",
      "42:\tlearn: 0.3381366\ttotal: 4.85s\tremaining: 51.6s\n",
      "43:\tlearn: 0.3380169\ttotal: 4.97s\tremaining: 51.5s\n",
      "44:\tlearn: 0.3379545\ttotal: 5.07s\tremaining: 51.3s\n",
      "45:\tlearn: 0.3374522\ttotal: 5.18s\tremaining: 51.2s\n",
      "46:\tlearn: 0.3374074\ttotal: 5.29s\tremaining: 51s\n",
      "47:\tlearn: 0.3370033\ttotal: 5.45s\tremaining: 51.3s\n",
      "48:\tlearn: 0.3368807\ttotal: 5.64s\tremaining: 51.9s\n",
      "49:\tlearn: 0.3368211\ttotal: 5.81s\tremaining: 52.3s\n",
      "50:\tlearn: 0.3366804\ttotal: 6s\tremaining: 52.8s\n",
      "51:\tlearn: 0.3365483\ttotal: 6.22s\tremaining: 53.6s\n",
      "52:\tlearn: 0.3364109\ttotal: 6.39s\tremaining: 53.9s\n",
      "53:\tlearn: 0.3363324\ttotal: 6.51s\tremaining: 53.7s\n",
      "54:\tlearn: 0.3362548\ttotal: 6.62s\tremaining: 53.6s\n",
      "55:\tlearn: 0.3360073\ttotal: 6.89s\tremaining: 54.6s\n",
      "56:\tlearn: 0.3359316\ttotal: 7.05s\tremaining: 54.8s\n",
      "57:\tlearn: 0.3358590\ttotal: 7.17s\tremaining: 54.7s\n",
      "58:\tlearn: 0.3356794\ttotal: 7.29s\tremaining: 54.5s\n",
      "59:\tlearn: 0.3355801\ttotal: 7.41s\tremaining: 54.4s\n",
      "60:\tlearn: 0.3354529\ttotal: 7.56s\tremaining: 54.4s\n",
      "61:\tlearn: 0.3354215\ttotal: 7.67s\tremaining: 54.2s\n",
      "62:\tlearn: 0.3352994\ttotal: 7.79s\tremaining: 54s\n",
      "63:\tlearn: 0.3352027\ttotal: 7.89s\tremaining: 53.8s\n",
      "64:\tlearn: 0.3351395\ttotal: 8.03s\tremaining: 53.7s\n",
      "65:\tlearn: 0.3350495\ttotal: 8.16s\tremaining: 53.6s\n",
      "66:\tlearn: 0.3348780\ttotal: 8.27s\tremaining: 53.4s\n",
      "67:\tlearn: 0.3348103\ttotal: 8.38s\tremaining: 53.2s\n",
      "68:\tlearn: 0.3346538\ttotal: 8.58s\tremaining: 53.6s\n",
      "69:\tlearn: 0.3345438\ttotal: 8.86s\tremaining: 54.4s\n",
      "70:\tlearn: 0.3344771\ttotal: 9.05s\tremaining: 54.7s\n",
      "71:\tlearn: 0.3344737\ttotal: 9.11s\tremaining: 54.2s\n",
      "72:\tlearn: 0.3343739\ttotal: 9.22s\tremaining: 54s\n",
      "73:\tlearn: 0.3342837\ttotal: 9.33s\tremaining: 53.7s\n",
      "74:\tlearn: 0.3340471\ttotal: 9.42s\tremaining: 53.4s\n",
      "75:\tlearn: 0.3339664\ttotal: 9.53s\tremaining: 53.2s\n",
      "76:\tlearn: 0.3339177\ttotal: 9.63s\tremaining: 52.9s\n",
      "77:\tlearn: 0.3338373\ttotal: 9.74s\tremaining: 52.7s\n",
      "78:\tlearn: 0.3337655\ttotal: 9.87s\tremaining: 52.6s\n",
      "79:\tlearn: 0.3335013\ttotal: 10s\tremaining: 52.5s\n",
      "80:\tlearn: 0.3334505\ttotal: 10.1s\tremaining: 52.4s\n",
      "81:\tlearn: 0.3333529\ttotal: 10.2s\tremaining: 52.2s\n",
      "82:\tlearn: 0.3333294\ttotal: 10.3s\tremaining: 51.8s\n",
      "83:\tlearn: 0.3332355\ttotal: 10.4s\tremaining: 51.6s\n",
      "84:\tlearn: 0.3330557\ttotal: 10.5s\tremaining: 51.4s\n",
      "85:\tlearn: 0.3329420\ttotal: 10.6s\tremaining: 51.3s\n",
      "86:\tlearn: 0.3328374\ttotal: 10.8s\tremaining: 51.1s\n",
      "87:\tlearn: 0.3327778\ttotal: 10.9s\tremaining: 50.9s\n",
      "88:\tlearn: 0.3327104\ttotal: 11s\tremaining: 50.7s\n",
      "89:\tlearn: 0.3325323\ttotal: 11.2s\tremaining: 50.8s\n",
      "90:\tlearn: 0.3323977\ttotal: 11.3s\tremaining: 50.7s\n",
      "91:\tlearn: 0.3323487\ttotal: 11.4s\tremaining: 50.5s\n",
      "92:\tlearn: 0.3321891\ttotal: 11.5s\tremaining: 50.4s\n",
      "93:\tlearn: 0.3321020\ttotal: 11.6s\tremaining: 50.3s\n",
      "94:\tlearn: 0.3320160\ttotal: 11.8s\tremaining: 50.2s\n",
      "95:\tlearn: 0.3319456\ttotal: 11.9s\tremaining: 50s\n",
      "96:\tlearn: 0.3318631\ttotal: 12s\tremaining: 49.8s\n",
      "97:\tlearn: 0.3317557\ttotal: 12.1s\tremaining: 49.7s\n",
      "98:\tlearn: 0.3315671\ttotal: 12.2s\tremaining: 49.6s\n",
      "99:\tlearn: 0.3314173\ttotal: 12.4s\tremaining: 49.4s\n",
      "100:\tlearn: 0.3312640\ttotal: 12.5s\tremaining: 49.3s\n",
      "101:\tlearn: 0.3310475\ttotal: 12.7s\tremaining: 49.5s\n",
      "102:\tlearn: 0.3308854\ttotal: 12.8s\tremaining: 49.4s\n",
      "103:\tlearn: 0.3308451\ttotal: 12.9s\tremaining: 49.3s\n",
      "104:\tlearn: 0.3307440\ttotal: 13.1s\tremaining: 49.2s\n",
      "105:\tlearn: 0.3306796\ttotal: 13.2s\tremaining: 49.1s\n",
      "106:\tlearn: 0.3305749\ttotal: 13.3s\tremaining: 49s\n",
      "107:\tlearn: 0.3303449\ttotal: 13.4s\tremaining: 48.8s\n",
      "108:\tlearn: 0.3301123\ttotal: 13.6s\tremaining: 48.6s\n",
      "109:\tlearn: 0.3300273\ttotal: 13.7s\tremaining: 48.4s\n",
      "110:\tlearn: 0.3299707\ttotal: 13.8s\tremaining: 48.3s\n",
      "111:\tlearn: 0.3298598\ttotal: 13.9s\tremaining: 48.1s\n",
      "112:\tlearn: 0.3297291\ttotal: 14s\tremaining: 47.9s\n",
      "113:\tlearn: 0.3295824\ttotal: 14.1s\tremaining: 47.8s\n",
      "114:\tlearn: 0.3294435\ttotal: 14.2s\tremaining: 47.7s\n",
      "115:\tlearn: 0.3291644\ttotal: 14.3s\tremaining: 47.5s\n",
      "116:\tlearn: 0.3290177\ttotal: 14.5s\tremaining: 47.4s\n",
      "117:\tlearn: 0.3288815\ttotal: 14.6s\tremaining: 47.2s\n",
      "118:\tlearn: 0.3287329\ttotal: 14.7s\tremaining: 47.1s\n",
      "119:\tlearn: 0.3285849\ttotal: 14.8s\tremaining: 47s\n",
      "120:\tlearn: 0.3285320\ttotal: 15s\tremaining: 46.9s\n",
      "121:\tlearn: 0.3283876\ttotal: 15.1s\tremaining: 46.8s\n",
      "122:\tlearn: 0.3282816\ttotal: 15.2s\tremaining: 46.6s\n",
      "123:\tlearn: 0.3281767\ttotal: 15.3s\tremaining: 46.5s\n",
      "124:\tlearn: 0.3281486\ttotal: 15.6s\tremaining: 46.7s\n",
      "125:\tlearn: 0.3280192\ttotal: 15.8s\tremaining: 46.8s\n",
      "126:\tlearn: 0.3279327\ttotal: 15.9s\tremaining: 46.8s\n",
      "127:\tlearn: 0.3278500\ttotal: 16.1s\tremaining: 46.7s\n",
      "128:\tlearn: 0.3277627\ttotal: 16.2s\tremaining: 46.5s\n",
      "129:\tlearn: 0.3276988\ttotal: 16.4s\tremaining: 46.7s\n",
      "130:\tlearn: 0.3275807\ttotal: 16.6s\tremaining: 46.8s\n",
      "131:\tlearn: 0.3275003\ttotal: 16.8s\tremaining: 46.7s\n",
      "132:\tlearn: 0.3274123\ttotal: 17.1s\tremaining: 47.1s\n",
      "133:\tlearn: 0.3272839\ttotal: 17.2s\tremaining: 46.9s\n",
      "134:\tlearn: 0.3272209\ttotal: 17.3s\tremaining: 46.8s\n",
      "135:\tlearn: 0.3271154\ttotal: 17.6s\tremaining: 47s\n",
      "136:\tlearn: 0.3269689\ttotal: 17.7s\tremaining: 46.9s\n",
      "137:\tlearn: 0.3267169\ttotal: 17.8s\tremaining: 46.7s\n",
      "138:\tlearn: 0.3267071\ttotal: 17.9s\tremaining: 46.5s\n",
      "139:\tlearn: 0.3265675\ttotal: 18s\tremaining: 46.4s\n",
      "140:\tlearn: 0.3264875\ttotal: 18.2s\tremaining: 46.3s\n",
      "141:\tlearn: 0.3264074\ttotal: 18.3s\tremaining: 46.1s\n",
      "142:\tlearn: 0.3263308\ttotal: 18.4s\tremaining: 46s\n",
      "143:\tlearn: 0.3261059\ttotal: 18.6s\tremaining: 45.9s\n",
      "144:\tlearn: 0.3260452\ttotal: 18.7s\tremaining: 45.7s\n",
      "145:\tlearn: 0.3259742\ttotal: 18.8s\tremaining: 45.6s\n",
      "146:\tlearn: 0.3258430\ttotal: 18.9s\tremaining: 45.5s\n",
      "147:\tlearn: 0.3257602\ttotal: 19.2s\tremaining: 45.7s\n",
      "148:\tlearn: 0.3256109\ttotal: 19.3s\tremaining: 45.6s\n",
      "149:\tlearn: 0.3255303\ttotal: 19.5s\tremaining: 45.4s\n",
      "150:\tlearn: 0.3254102\ttotal: 19.7s\tremaining: 45.6s\n",
      "151:\tlearn: 0.3253409\ttotal: 19.9s\tremaining: 45.6s\n",
      "152:\tlearn: 0.3252276\ttotal: 20s\tremaining: 45.5s\n",
      "153:\tlearn: 0.3251070\ttotal: 20.4s\tremaining: 45.8s\n",
      "154:\tlearn: 0.3250346\ttotal: 20.5s\tremaining: 45.7s\n",
      "155:\tlearn: 0.3249334\ttotal: 20.7s\tremaining: 45.7s\n",
      "156:\tlearn: 0.3248931\ttotal: 20.9s\tremaining: 45.8s\n",
      "157:\tlearn: 0.3248209\ttotal: 21.1s\tremaining: 45.7s\n",
      "158:\tlearn: 0.3246669\ttotal: 21.4s\tremaining: 45.8s\n",
      "159:\tlearn: 0.3245293\ttotal: 21.5s\tremaining: 45.7s\n",
      "160:\tlearn: 0.3243684\ttotal: 21.7s\tremaining: 45.7s\n",
      "161:\tlearn: 0.3242446\ttotal: 21.8s\tremaining: 45.5s\n",
      "162:\tlearn: 0.3241493\ttotal: 21.9s\tremaining: 45.4s\n",
      "163:\tlearn: 0.3240794\ttotal: 22.2s\tremaining: 45.4s\n",
      "164:\tlearn: 0.3239137\ttotal: 22.4s\tremaining: 45.4s\n",
      "165:\tlearn: 0.3238142\ttotal: 22.5s\tremaining: 45.2s\n",
      "166:\tlearn: 0.3237298\ttotal: 22.6s\tremaining: 45s\n",
      "167:\tlearn: 0.3235829\ttotal: 22.7s\tremaining: 44.9s\n",
      "168:\tlearn: 0.3235121\ttotal: 22.8s\tremaining: 44.7s\n",
      "169:\tlearn: 0.3234081\ttotal: 23s\tremaining: 44.6s\n",
      "170:\tlearn: 0.3232715\ttotal: 23.1s\tremaining: 44.5s\n",
      "171:\tlearn: 0.3232138\ttotal: 23.3s\tremaining: 44.4s\n",
      "172:\tlearn: 0.3231635\ttotal: 23.4s\tremaining: 44.2s\n",
      "173:\tlearn: 0.3230647\ttotal: 23.5s\tremaining: 44.1s\n",
      "174:\tlearn: 0.3228849\ttotal: 23.6s\tremaining: 43.9s\n",
      "175:\tlearn: 0.3228144\ttotal: 23.8s\tremaining: 43.8s\n",
      "176:\tlearn: 0.3227082\ttotal: 23.9s\tremaining: 43.6s\n",
      "177:\tlearn: 0.3226353\ttotal: 24s\tremaining: 43.5s\n",
      "178:\tlearn: 0.3225031\ttotal: 24.2s\tremaining: 43.3s\n",
      "179:\tlearn: 0.3223501\ttotal: 24.3s\tremaining: 43.2s\n",
      "180:\tlearn: 0.3221933\ttotal: 24.4s\tremaining: 43s\n",
      "181:\tlearn: 0.3221055\ttotal: 24.5s\tremaining: 42.9s\n",
      "182:\tlearn: 0.3220121\ttotal: 24.7s\tremaining: 42.7s\n",
      "183:\tlearn: 0.3219329\ttotal: 24.8s\tremaining: 42.5s\n",
      "184:\tlearn: 0.3218949\ttotal: 25s\tremaining: 42.5s\n",
      "185:\tlearn: 0.3217883\ttotal: 25.1s\tremaining: 42.4s\n",
      "186:\tlearn: 0.3216427\ttotal: 25.2s\tremaining: 42.3s\n",
      "187:\tlearn: 0.3215992\ttotal: 25.4s\tremaining: 42.1s\n",
      "188:\tlearn: 0.3215470\ttotal: 25.5s\tremaining: 41.9s\n",
      "189:\tlearn: 0.3214477\ttotal: 25.6s\tremaining: 41.8s\n",
      "190:\tlearn: 0.3213083\ttotal: 25.7s\tremaining: 41.6s\n",
      "191:\tlearn: 0.3211883\ttotal: 25.8s\tremaining: 41.4s\n",
      "192:\tlearn: 0.3210211\ttotal: 26s\tremaining: 41.3s\n",
      "193:\tlearn: 0.3209062\ttotal: 26.1s\tremaining: 41.1s\n",
      "194:\tlearn: 0.3208144\ttotal: 26.2s\tremaining: 40.9s\n",
      "195:\tlearn: 0.3206888\ttotal: 26.3s\tremaining: 40.8s\n",
      "196:\tlearn: 0.3206307\ttotal: 26.6s\tremaining: 40.8s\n",
      "197:\tlearn: 0.3205517\ttotal: 26.7s\tremaining: 40.8s\n",
      "198:\tlearn: 0.3204902\ttotal: 26.9s\tremaining: 40.6s\n",
      "199:\tlearn: 0.3203590\ttotal: 27s\tremaining: 40.4s\n",
      "200:\tlearn: 0.3203064\ttotal: 27.1s\tremaining: 40.3s\n",
      "201:\tlearn: 0.3202370\ttotal: 27.2s\tremaining: 40.1s\n",
      "202:\tlearn: 0.3201729\ttotal: 27.3s\tremaining: 40s\n",
      "203:\tlearn: 0.3200652\ttotal: 27.4s\tremaining: 39.8s\n",
      "204:\tlearn: 0.3199949\ttotal: 27.6s\tremaining: 39.6s\n",
      "205:\tlearn: 0.3198796\ttotal: 27.7s\tremaining: 39.5s\n",
      "206:\tlearn: 0.3198326\ttotal: 27.8s\tremaining: 39.3s\n",
      "207:\tlearn: 0.3196708\ttotal: 27.9s\tremaining: 39.2s\n",
      "208:\tlearn: 0.3196579\ttotal: 28s\tremaining: 39s\n",
      "209:\tlearn: 0.3195498\ttotal: 28.2s\tremaining: 38.9s\n",
      "210:\tlearn: 0.3194659\ttotal: 28.4s\tremaining: 38.9s\n",
      "211:\tlearn: 0.3193843\ttotal: 28.6s\tremaining: 38.9s\n",
      "212:\tlearn: 0.3192916\ttotal: 28.8s\tremaining: 38.7s\n",
      "213:\tlearn: 0.3191439\ttotal: 29s\tremaining: 38.8s\n",
      "214:\tlearn: 0.3190313\ttotal: 29.2s\tremaining: 38.7s\n",
      "215:\tlearn: 0.3189151\ttotal: 29.4s\tremaining: 38.7s\n",
      "216:\tlearn: 0.3188475\ttotal: 29.5s\tremaining: 38.5s\n",
      "217:\tlearn: 0.3188057\ttotal: 29.6s\tremaining: 38.4s\n",
      "218:\tlearn: 0.3187440\ttotal: 29.8s\tremaining: 38.2s\n",
      "219:\tlearn: 0.3185862\ttotal: 29.9s\tremaining: 38s\n",
      "220:\tlearn: 0.3184960\ttotal: 30s\tremaining: 37.9s\n",
      "221:\tlearn: 0.3184633\ttotal: 30.3s\tremaining: 37.9s\n",
      "222:\tlearn: 0.3183489\ttotal: 30.4s\tremaining: 37.8s\n",
      "223:\tlearn: 0.3182583\ttotal: 30.6s\tremaining: 37.6s\n",
      "224:\tlearn: 0.3181525\ttotal: 30.9s\tremaining: 37.7s\n",
      "225:\tlearn: 0.3180731\ttotal: 31.1s\tremaining: 37.7s\n",
      "226:\tlearn: 0.3180064\ttotal: 31.3s\tremaining: 37.6s\n",
      "227:\tlearn: 0.3179770\ttotal: 31.4s\tremaining: 37.4s\n",
      "228:\tlearn: 0.3178980\ttotal: 31.5s\tremaining: 37.3s\n",
      "229:\tlearn: 0.3177883\ttotal: 31.6s\tremaining: 37.1s\n",
      "230:\tlearn: 0.3176690\ttotal: 31.8s\tremaining: 37s\n",
      "231:\tlearn: 0.3175203\ttotal: 31.9s\tremaining: 36.8s\n",
      "232:\tlearn: 0.3174560\ttotal: 32s\tremaining: 36.7s\n",
      "233:\tlearn: 0.3173627\ttotal: 32.3s\tremaining: 36.8s\n",
      "234:\tlearn: 0.3172754\ttotal: 32.5s\tremaining: 36.6s\n",
      "235:\tlearn: 0.3172028\ttotal: 32.6s\tremaining: 36.5s\n",
      "236:\tlearn: 0.3170884\ttotal: 32.8s\tremaining: 36.4s\n",
      "237:\tlearn: 0.3170087\ttotal: 33s\tremaining: 36.3s\n",
      "238:\tlearn: 0.3169298\ttotal: 33.2s\tremaining: 36.2s\n",
      "239:\tlearn: 0.3168248\ttotal: 33.3s\tremaining: 36s\n",
      "240:\tlearn: 0.3167812\ttotal: 33.5s\tremaining: 36s\n",
      "241:\tlearn: 0.3167053\ttotal: 33.7s\tremaining: 35.9s\n",
      "242:\tlearn: 0.3165891\ttotal: 33.8s\tremaining: 35.8s\n",
      "243:\tlearn: 0.3164797\ttotal: 33.9s\tremaining: 35.6s\n",
      "244:\tlearn: 0.3163499\ttotal: 34.1s\tremaining: 35.4s\n",
      "245:\tlearn: 0.3162491\ttotal: 34.2s\tremaining: 35.3s\n",
      "246:\tlearn: 0.3161703\ttotal: 34.3s\tremaining: 35.1s\n",
      "247:\tlearn: 0.3161143\ttotal: 34.4s\tremaining: 35s\n",
      "248:\tlearn: 0.3159387\ttotal: 34.5s\tremaining: 34.8s\n",
      "249:\tlearn: 0.3158527\ttotal: 34.6s\tremaining: 34.6s\n",
      "250:\tlearn: 0.3157929\ttotal: 34.8s\tremaining: 34.5s\n",
      "251:\tlearn: 0.3157259\ttotal: 34.9s\tremaining: 34.3s\n",
      "252:\tlearn: 0.3156605\ttotal: 35s\tremaining: 34.1s\n",
      "253:\tlearn: 0.3154452\ttotal: 35.1s\tremaining: 34s\n",
      "254:\tlearn: 0.3153578\ttotal: 35.2s\tremaining: 33.8s\n",
      "255:\tlearn: 0.3153175\ttotal: 35.3s\tremaining: 33.7s\n",
      "256:\tlearn: 0.3152366\ttotal: 35.5s\tremaining: 33.5s\n",
      "257:\tlearn: 0.3150361\ttotal: 35.6s\tremaining: 33.4s\n",
      "258:\tlearn: 0.3149245\ttotal: 35.7s\tremaining: 33.2s\n",
      "259:\tlearn: 0.3147733\ttotal: 35.8s\tremaining: 33s\n",
      "260:\tlearn: 0.3147213\ttotal: 35.9s\tremaining: 32.9s\n",
      "261:\tlearn: 0.3145951\ttotal: 36s\tremaining: 32.7s\n",
      "262:\tlearn: 0.3145243\ttotal: 36.1s\tremaining: 32.6s\n",
      "263:\tlearn: 0.3144038\ttotal: 36.3s\tremaining: 32.4s\n",
      "264:\tlearn: 0.3143057\ttotal: 36.4s\tremaining: 32.3s\n",
      "265:\tlearn: 0.3142029\ttotal: 36.5s\tremaining: 32.1s\n",
      "266:\tlearn: 0.3141620\ttotal: 36.6s\tremaining: 31.9s\n",
      "267:\tlearn: 0.3141175\ttotal: 36.7s\tremaining: 31.8s\n",
      "268:\tlearn: 0.3140657\ttotal: 36.8s\tremaining: 31.6s\n",
      "269:\tlearn: 0.3140347\ttotal: 36.9s\tremaining: 31.5s\n",
      "270:\tlearn: 0.3139617\ttotal: 37.1s\tremaining: 31.3s\n",
      "271:\tlearn: 0.3139159\ttotal: 37.2s\tremaining: 31.2s\n",
      "272:\tlearn: 0.3138392\ttotal: 37.3s\tremaining: 31s\n",
      "273:\tlearn: 0.3137538\ttotal: 37.4s\tremaining: 30.9s\n",
      "274:\tlearn: 0.3136272\ttotal: 37.5s\tremaining: 30.7s\n",
      "275:\tlearn: 0.3135172\ttotal: 37.7s\tremaining: 30.6s\n",
      "276:\tlearn: 0.3134506\ttotal: 38s\tremaining: 30.6s\n",
      "277:\tlearn: 0.3133746\ttotal: 38.2s\tremaining: 30.5s\n",
      "278:\tlearn: 0.3133076\ttotal: 38.3s\tremaining: 30.3s\n",
      "279:\tlearn: 0.3132203\ttotal: 38.4s\tremaining: 30.2s\n",
      "280:\tlearn: 0.3131086\ttotal: 38.6s\tremaining: 30.1s\n",
      "281:\tlearn: 0.3130622\ttotal: 38.7s\tremaining: 29.9s\n",
      "282:\tlearn: 0.3129734\ttotal: 39s\tremaining: 29.9s\n",
      "283:\tlearn: 0.3128677\ttotal: 39.1s\tremaining: 29.8s\n",
      "284:\tlearn: 0.3128035\ttotal: 39.3s\tremaining: 29.6s\n",
      "285:\tlearn: 0.3127438\ttotal: 39.4s\tremaining: 29.5s\n",
      "286:\tlearn: 0.3126535\ttotal: 39.5s\tremaining: 29.3s\n",
      "287:\tlearn: 0.3125743\ttotal: 39.6s\tremaining: 29.2s\n",
      "288:\tlearn: 0.3125075\ttotal: 39.7s\tremaining: 29s\n",
      "289:\tlearn: 0.3124290\ttotal: 39.8s\tremaining: 28.9s\n",
      "290:\tlearn: 0.3123484\ttotal: 40s\tremaining: 28.7s\n",
      "291:\tlearn: 0.3122317\ttotal: 40.1s\tremaining: 28.5s\n",
      "292:\tlearn: 0.3120952\ttotal: 40.2s\tremaining: 28.4s\n",
      "293:\tlearn: 0.3120294\ttotal: 40.3s\tremaining: 28.2s\n",
      "294:\tlearn: 0.3119465\ttotal: 40.4s\tremaining: 28.1s\n",
      "295:\tlearn: 0.3118895\ttotal: 40.5s\tremaining: 27.9s\n",
      "296:\tlearn: 0.3117783\ttotal: 40.8s\tremaining: 27.9s\n",
      "297:\tlearn: 0.3116741\ttotal: 41s\tremaining: 27.8s\n",
      "298:\tlearn: 0.3115941\ttotal: 41.1s\tremaining: 27.6s\n",
      "299:\tlearn: 0.3115673\ttotal: 41.3s\tremaining: 27.5s\n",
      "300:\tlearn: 0.3115007\ttotal: 41.6s\tremaining: 27.5s\n",
      "301:\tlearn: 0.3114503\ttotal: 41.7s\tremaining: 27.4s\n",
      "302:\tlearn: 0.3113651\ttotal: 41.9s\tremaining: 27.2s\n",
      "303:\tlearn: 0.3112159\ttotal: 42.2s\tremaining: 27.2s\n",
      "304:\tlearn: 0.3111325\ttotal: 42.4s\tremaining: 27.1s\n",
      "305:\tlearn: 0.3110682\ttotal: 42.7s\tremaining: 27.1s\n",
      "306:\tlearn: 0.3110041\ttotal: 42.9s\tremaining: 27s\n",
      "307:\tlearn: 0.3109273\ttotal: 43s\tremaining: 26.8s\n",
      "308:\tlearn: 0.3108696\ttotal: 43.1s\tremaining: 26.7s\n",
      "309:\tlearn: 0.3108029\ttotal: 43.3s\tremaining: 26.5s\n",
      "310:\tlearn: 0.3107413\ttotal: 43.5s\tremaining: 26.4s\n",
      "311:\tlearn: 0.3106223\ttotal: 43.7s\tremaining: 26.3s\n",
      "312:\tlearn: 0.3105240\ttotal: 43.8s\tremaining: 26.2s\n",
      "313:\tlearn: 0.3104649\ttotal: 43.9s\tremaining: 26s\n",
      "314:\tlearn: 0.3103744\ttotal: 44s\tremaining: 25.9s\n",
      "315:\tlearn: 0.3103290\ttotal: 44.2s\tremaining: 25.7s\n",
      "316:\tlearn: 0.3102777\ttotal: 44.5s\tremaining: 25.7s\n",
      "317:\tlearn: 0.3101887\ttotal: 44.6s\tremaining: 25.5s\n",
      "318:\tlearn: 0.3100448\ttotal: 44.7s\tremaining: 25.4s\n",
      "319:\tlearn: 0.3100034\ttotal: 44.8s\tremaining: 25.2s\n",
      "320:\tlearn: 0.3098710\ttotal: 45s\tremaining: 25.1s\n",
      "321:\tlearn: 0.3097644\ttotal: 45.2s\tremaining: 25s\n",
      "322:\tlearn: 0.3097360\ttotal: 45.5s\tremaining: 24.9s\n",
      "323:\tlearn: 0.3096127\ttotal: 45.6s\tremaining: 24.8s\n",
      "324:\tlearn: 0.3094837\ttotal: 45.8s\tremaining: 24.6s\n",
      "325:\tlearn: 0.3094003\ttotal: 45.9s\tremaining: 24.5s\n",
      "326:\tlearn: 0.3093491\ttotal: 46s\tremaining: 24.3s\n",
      "327:\tlearn: 0.3092512\ttotal: 46.1s\tremaining: 24.2s\n",
      "328:\tlearn: 0.3091827\ttotal: 46.3s\tremaining: 24s\n",
      "329:\tlearn: 0.3091150\ttotal: 46.4s\tremaining: 23.9s\n",
      "330:\tlearn: 0.3090829\ttotal: 46.5s\tremaining: 23.7s\n",
      "331:\tlearn: 0.3090404\ttotal: 46.6s\tremaining: 23.6s\n",
      "332:\tlearn: 0.3090183\ttotal: 46.7s\tremaining: 23.4s\n",
      "333:\tlearn: 0.3089346\ttotal: 46.9s\tremaining: 23.3s\n",
      "334:\tlearn: 0.3088641\ttotal: 47s\tremaining: 23.2s\n",
      "335:\tlearn: 0.3087450\ttotal: 47.1s\tremaining: 23s\n",
      "336:\tlearn: 0.3086776\ttotal: 47.3s\tremaining: 22.9s\n",
      "337:\tlearn: 0.3086046\ttotal: 47.5s\tremaining: 22.8s\n",
      "338:\tlearn: 0.3084953\ttotal: 47.7s\tremaining: 22.7s\n",
      "339:\tlearn: 0.3083520\ttotal: 47.9s\tremaining: 22.5s\n",
      "340:\tlearn: 0.3082100\ttotal: 48s\tremaining: 22.4s\n",
      "341:\tlearn: 0.3080310\ttotal: 48.1s\tremaining: 22.2s\n",
      "342:\tlearn: 0.3078964\ttotal: 48.3s\tremaining: 22.1s\n",
      "343:\tlearn: 0.3078180\ttotal: 48.4s\tremaining: 21.9s\n",
      "344:\tlearn: 0.3077931\ttotal: 48.5s\tremaining: 21.8s\n",
      "345:\tlearn: 0.3077471\ttotal: 48.7s\tremaining: 21.7s\n",
      "346:\tlearn: 0.3076095\ttotal: 48.9s\tremaining: 21.5s\n",
      "347:\tlearn: 0.3075618\ttotal: 49s\tremaining: 21.4s\n",
      "348:\tlearn: 0.3075163\ttotal: 49.2s\tremaining: 21.3s\n",
      "349:\tlearn: 0.3073942\ttotal: 49.5s\tremaining: 21.2s\n",
      "350:\tlearn: 0.3073392\ttotal: 49.6s\tremaining: 21.1s\n",
      "351:\tlearn: 0.3072517\ttotal: 49.7s\tremaining: 20.9s\n",
      "352:\tlearn: 0.3071648\ttotal: 50s\tremaining: 20.8s\n",
      "353:\tlearn: 0.3070634\ttotal: 50.1s\tremaining: 20.7s\n",
      "354:\tlearn: 0.3069570\ttotal: 50.2s\tremaining: 20.5s\n",
      "355:\tlearn: 0.3068687\ttotal: 50.4s\tremaining: 20.4s\n",
      "356:\tlearn: 0.3068586\ttotal: 50.5s\tremaining: 20.2s\n",
      "357:\tlearn: 0.3067450\ttotal: 50.6s\tremaining: 20.1s\n",
      "358:\tlearn: 0.3067093\ttotal: 50.8s\tremaining: 19.9s\n",
      "359:\tlearn: 0.3066849\ttotal: 50.9s\tremaining: 19.8s\n",
      "360:\tlearn: 0.3065789\ttotal: 51s\tremaining: 19.6s\n",
      "361:\tlearn: 0.3064364\ttotal: 51.1s\tremaining: 19.5s\n",
      "362:\tlearn: 0.3062846\ttotal: 51.4s\tremaining: 19.4s\n",
      "363:\tlearn: 0.3062216\ttotal: 51.6s\tremaining: 19.3s\n",
      "364:\tlearn: 0.3061049\ttotal: 51.7s\tremaining: 19.1s\n",
      "365:\tlearn: 0.3060043\ttotal: 51.8s\tremaining: 19s\n",
      "366:\tlearn: 0.3059347\ttotal: 52s\tremaining: 18.8s\n",
      "367:\tlearn: 0.3058591\ttotal: 52.2s\tremaining: 18.7s\n",
      "368:\tlearn: 0.3056984\ttotal: 52.3s\tremaining: 18.6s\n",
      "369:\tlearn: 0.3056371\ttotal: 52.5s\tremaining: 18.4s\n",
      "370:\tlearn: 0.3055861\ttotal: 52.6s\tremaining: 18.3s\n",
      "371:\tlearn: 0.3054902\ttotal: 52.8s\tremaining: 18.2s\n",
      "372:\tlearn: 0.3054584\ttotal: 52.9s\tremaining: 18s\n",
      "373:\tlearn: 0.3053467\ttotal: 53.1s\tremaining: 17.9s\n",
      "374:\tlearn: 0.3051915\ttotal: 53.2s\tremaining: 17.7s\n",
      "375:\tlearn: 0.3051687\ttotal: 53.4s\tremaining: 17.6s\n",
      "376:\tlearn: 0.3050251\ttotal: 53.6s\tremaining: 17.5s\n",
      "377:\tlearn: 0.3050007\ttotal: 53.7s\tremaining: 17.3s\n",
      "378:\tlearn: 0.3048461\ttotal: 53.9s\tremaining: 17.2s\n",
      "379:\tlearn: 0.3048310\ttotal: 54s\tremaining: 17.1s\n",
      "380:\tlearn: 0.3047823\ttotal: 54.2s\tremaining: 16.9s\n",
      "381:\tlearn: 0.3047299\ttotal: 54.3s\tremaining: 16.8s\n",
      "382:\tlearn: 0.3047096\ttotal: 54.4s\tremaining: 16.6s\n",
      "383:\tlearn: 0.3046372\ttotal: 54.6s\tremaining: 16.5s\n",
      "384:\tlearn: 0.3045495\ttotal: 54.8s\tremaining: 16.4s\n",
      "385:\tlearn: 0.3044512\ttotal: 54.9s\tremaining: 16.2s\n",
      "386:\tlearn: 0.3043919\ttotal: 55.1s\tremaining: 16.1s\n",
      "387:\tlearn: 0.3042874\ttotal: 55.2s\tremaining: 15.9s\n",
      "388:\tlearn: 0.3042333\ttotal: 55.3s\tremaining: 15.8s\n",
      "389:\tlearn: 0.3041611\ttotal: 55.5s\tremaining: 15.7s\n",
      "390:\tlearn: 0.3041049\ttotal: 55.8s\tremaining: 15.6s\n",
      "391:\tlearn: 0.3040758\ttotal: 56s\tremaining: 15.4s\n",
      "392:\tlearn: 0.3039849\ttotal: 56.1s\tremaining: 15.3s\n",
      "393:\tlearn: 0.3039406\ttotal: 56.2s\tremaining: 15.1s\n",
      "394:\tlearn: 0.3038526\ttotal: 56.5s\tremaining: 15s\n",
      "395:\tlearn: 0.3038047\ttotal: 56.7s\tremaining: 14.9s\n",
      "396:\tlearn: 0.3036898\ttotal: 57s\tremaining: 14.8s\n",
      "397:\tlearn: 0.3035882\ttotal: 57.3s\tremaining: 14.7s\n",
      "398:\tlearn: 0.3035058\ttotal: 57.5s\tremaining: 14.5s\n",
      "399:\tlearn: 0.3033807\ttotal: 57.8s\tremaining: 14.4s\n",
      "400:\tlearn: 0.3032751\ttotal: 57.9s\tremaining: 14.3s\n",
      "401:\tlearn: 0.3032299\ttotal: 58s\tremaining: 14.2s\n",
      "402:\tlearn: 0.3031258\ttotal: 58.2s\tremaining: 14s\n",
      "403:\tlearn: 0.3030550\ttotal: 58.3s\tremaining: 13.9s\n",
      "404:\tlearn: 0.3029565\ttotal: 58.5s\tremaining: 13.7s\n",
      "405:\tlearn: 0.3028913\ttotal: 58.7s\tremaining: 13.6s\n",
      "406:\tlearn: 0.3027859\ttotal: 58.8s\tremaining: 13.4s\n",
      "407:\tlearn: 0.3027323\ttotal: 58.9s\tremaining: 13.3s\n",
      "408:\tlearn: 0.3026540\ttotal: 59.1s\tremaining: 13.1s\n",
      "409:\tlearn: 0.3025795\ttotal: 59.3s\tremaining: 13s\n",
      "410:\tlearn: 0.3024996\ttotal: 59.4s\tremaining: 12.9s\n",
      "411:\tlearn: 0.3024491\ttotal: 59.5s\tremaining: 12.7s\n",
      "412:\tlearn: 0.3024120\ttotal: 59.7s\tremaining: 12.6s\n",
      "413:\tlearn: 0.3023812\ttotal: 59.8s\tremaining: 12.4s\n",
      "414:\tlearn: 0.3023467\ttotal: 59.9s\tremaining: 12.3s\n",
      "415:\tlearn: 0.3023258\ttotal: 1m\tremaining: 12.1s\n",
      "416:\tlearn: 0.3022913\ttotal: 1m\tremaining: 12s\n",
      "417:\tlearn: 0.3021555\ttotal: 1m\tremaining: 11.8s\n",
      "418:\tlearn: 0.3020800\ttotal: 1m\tremaining: 11.7s\n",
      "419:\tlearn: 0.3019670\ttotal: 1m\tremaining: 11.5s\n",
      "420:\tlearn: 0.3019021\ttotal: 1m\tremaining: 11.4s\n",
      "421:\tlearn: 0.3017975\ttotal: 1m\tremaining: 11.3s\n",
      "422:\tlearn: 0.3017247\ttotal: 1m 1s\tremaining: 11.1s\n",
      "423:\tlearn: 0.3016146\ttotal: 1m 1s\tremaining: 11s\n",
      "424:\tlearn: 0.3015208\ttotal: 1m 1s\tremaining: 10.8s\n",
      "425:\tlearn: 0.3014033\ttotal: 1m 1s\tremaining: 10.7s\n",
      "426:\tlearn: 0.3013751\ttotal: 1m 1s\tremaining: 10.5s\n",
      "427:\tlearn: 0.3013680\ttotal: 1m 1s\tremaining: 10.4s\n",
      "428:\tlearn: 0.3012917\ttotal: 1m 2s\tremaining: 10.3s\n",
      "429:\tlearn: 0.3012054\ttotal: 1m 2s\tremaining: 10.1s\n",
      "430:\tlearn: 0.3011170\ttotal: 1m 2s\tremaining: 10s\n",
      "431:\tlearn: 0.3010909\ttotal: 1m 2s\tremaining: 9.88s\n",
      "432:\tlearn: 0.3009997\ttotal: 1m 3s\tremaining: 9.75s\n",
      "433:\tlearn: 0.3009158\ttotal: 1m 3s\tremaining: 9.61s\n",
      "434:\tlearn: 0.3009113\ttotal: 1m 3s\tremaining: 9.46s\n",
      "435:\tlearn: 0.3008173\ttotal: 1m 3s\tremaining: 9.31s\n",
      "436:\tlearn: 0.3007252\ttotal: 1m 3s\tremaining: 9.18s\n",
      "437:\tlearn: 0.3006980\ttotal: 1m 3s\tremaining: 9.03s\n",
      "438:\tlearn: 0.3006225\ttotal: 1m 3s\tremaining: 8.88s\n",
      "439:\tlearn: 0.3005406\ttotal: 1m 4s\tremaining: 8.74s\n",
      "440:\tlearn: 0.3004962\ttotal: 1m 4s\tremaining: 8.59s\n",
      "441:\tlearn: 0.3004261\ttotal: 1m 4s\tremaining: 8.44s\n",
      "442:\tlearn: 0.3003914\ttotal: 1m 4s\tremaining: 8.3s\n",
      "443:\tlearn: 0.3002884\ttotal: 1m 4s\tremaining: 8.16s\n",
      "444:\tlearn: 0.3002160\ttotal: 1m 4s\tremaining: 8.02s\n",
      "445:\tlearn: 0.3001699\ttotal: 1m 5s\tremaining: 7.87s\n",
      "446:\tlearn: 0.3001533\ttotal: 1m 5s\tremaining: 7.72s\n",
      "447:\tlearn: 0.3000861\ttotal: 1m 5s\tremaining: 7.58s\n",
      "448:\tlearn: 0.2999487\ttotal: 1m 5s\tremaining: 7.43s\n",
      "449:\tlearn: 0.2998579\ttotal: 1m 5s\tremaining: 7.28s\n",
      "450:\tlearn: 0.2997973\ttotal: 1m 5s\tremaining: 7.14s\n",
      "451:\tlearn: 0.2997358\ttotal: 1m 5s\tremaining: 6.99s\n",
      "452:\tlearn: 0.2997175\ttotal: 1m 5s\tremaining: 6.85s\n",
      "453:\tlearn: 0.2995842\ttotal: 1m 6s\tremaining: 6.7s\n",
      "454:\tlearn: 0.2994051\ttotal: 1m 6s\tremaining: 6.56s\n",
      "455:\tlearn: 0.2993193\ttotal: 1m 6s\tremaining: 6.42s\n",
      "456:\tlearn: 0.2992520\ttotal: 1m 6s\tremaining: 6.29s\n",
      "457:\tlearn: 0.2991869\ttotal: 1m 7s\tremaining: 6.14s\n",
      "458:\tlearn: 0.2991499\ttotal: 1m 7s\tremaining: 6.01s\n",
      "459:\tlearn: 0.2991198\ttotal: 1m 7s\tremaining: 5.87s\n",
      "460:\tlearn: 0.2990686\ttotal: 1m 7s\tremaining: 5.73s\n",
      "461:\tlearn: 0.2990400\ttotal: 1m 7s\tremaining: 5.59s\n",
      "462:\tlearn: 0.2989771\ttotal: 1m 8s\tremaining: 5.44s\n",
      "463:\tlearn: 0.2989375\ttotal: 1m 8s\tremaining: 5.29s\n",
      "464:\tlearn: 0.2988606\ttotal: 1m 8s\tremaining: 5.15s\n",
      "465:\tlearn: 0.2987065\ttotal: 1m 8s\tremaining: 5s\n",
      "466:\tlearn: 0.2986395\ttotal: 1m 8s\tremaining: 4.85s\n",
      "467:\tlearn: 0.2985387\ttotal: 1m 8s\tremaining: 4.7s\n",
      "468:\tlearn: 0.2984853\ttotal: 1m 8s\tremaining: 4.56s\n",
      "469:\tlearn: 0.2983978\ttotal: 1m 9s\tremaining: 4.41s\n",
      "470:\tlearn: 0.2983080\ttotal: 1m 9s\tremaining: 4.26s\n",
      "471:\tlearn: 0.2982469\ttotal: 1m 9s\tremaining: 4.11s\n",
      "472:\tlearn: 0.2982210\ttotal: 1m 9s\tremaining: 3.97s\n",
      "473:\tlearn: 0.2981465\ttotal: 1m 9s\tremaining: 3.82s\n",
      "474:\tlearn: 0.2980430\ttotal: 1m 9s\tremaining: 3.67s\n",
      "475:\tlearn: 0.2979052\ttotal: 1m 9s\tremaining: 3.53s\n",
      "476:\tlearn: 0.2978312\ttotal: 1m 10s\tremaining: 3.38s\n",
      "477:\tlearn: 0.2978038\ttotal: 1m 10s\tremaining: 3.23s\n",
      "478:\tlearn: 0.2977109\ttotal: 1m 10s\tremaining: 3.08s\n",
      "479:\tlearn: 0.2975927\ttotal: 1m 10s\tremaining: 2.93s\n",
      "480:\tlearn: 0.2975076\ttotal: 1m 10s\tremaining: 2.79s\n",
      "481:\tlearn: 0.2973877\ttotal: 1m 10s\tremaining: 2.64s\n",
      "482:\tlearn: 0.2972958\ttotal: 1m 10s\tremaining: 2.49s\n",
      "483:\tlearn: 0.2972742\ttotal: 1m 10s\tremaining: 2.35s\n",
      "484:\tlearn: 0.2972287\ttotal: 1m 11s\tremaining: 2.2s\n",
      "485:\tlearn: 0.2971754\ttotal: 1m 11s\tremaining: 2.05s\n",
      "486:\tlearn: 0.2970700\ttotal: 1m 11s\tremaining: 1.91s\n",
      "487:\tlearn: 0.2969781\ttotal: 1m 11s\tremaining: 1.76s\n",
      "488:\tlearn: 0.2968336\ttotal: 1m 11s\tremaining: 1.61s\n",
      "489:\tlearn: 0.2967387\ttotal: 1m 11s\tremaining: 1.47s\n",
      "490:\tlearn: 0.2965827\ttotal: 1m 11s\tremaining: 1.32s\n",
      "491:\tlearn: 0.2965248\ttotal: 1m 12s\tremaining: 1.17s\n",
      "492:\tlearn: 0.2964627\ttotal: 1m 12s\tremaining: 1.03s\n",
      "493:\tlearn: 0.2963288\ttotal: 1m 12s\tremaining: 881ms\n",
      "494:\tlearn: 0.2962715\ttotal: 1m 12s\tremaining: 734ms\n",
      "495:\tlearn: 0.2962357\ttotal: 1m 12s\tremaining: 587ms\n",
      "496:\tlearn: 0.2961398\ttotal: 1m 13s\tremaining: 441ms\n",
      "497:\tlearn: 0.2960838\ttotal: 1m 13s\tremaining: 294ms\n",
      "498:\tlearn: 0.2959828\ttotal: 1m 13s\tremaining: 147ms\n",
      "499:\tlearn: 0.2959016\ttotal: 1m 13s\tremaining: 0us\n"
     ]
    },
    {
     "data": {
      "text/plain": [
       "<catboost.core.CatBoostClassifier at 0x2350188b460>"
      ]
     },
     "execution_count": 48,
     "metadata": {},
     "output_type": "execute_result"
    }
   ],
   "source": [
    "cb_top_20 = CatBoostClassifier(random_state=12345, verbose=1, iterations=500, cat_features=list(X_train_top_20.select_dtypes(include='object').columns))\n",
    "cb_top_20.fit(X_train_top_20, y_train)"
   ]
  },
  {
   "cell_type": "markdown",
   "metadata": {},
   "source": [
    "#### Quality metrics results"
   ]
  },
  {
   "cell_type": "code",
   "execution_count": 49,
   "metadata": {},
   "outputs": [
    {
     "name": "stdout",
     "output_type": "stream",
     "text": [
      "Train ROC-AUC score: 0.8017822424036769\n",
      "Test ROC-AUC score: 0.6186401299733044\n"
     ]
    }
   ],
   "source": [
    "print(f\"Train ROC-AUC score: {roc_auc_score(y_train, cb_top_20.predict_proba(X_train_top_20)[:, 1])}\")\n",
    "print(f\"Test ROC-AUC score: {roc_auc_score(y_test, cb_top_20.predict_proba(X_test_top_20)[:, 1])}\")"
   ]
  },
  {
   "cell_type": "code",
   "execution_count": 50,
   "metadata": {},
   "outputs": [
    {
     "name": "stdout",
     "output_type": "stream",
     "text": [
      "Среднее hitrate@5 train: 0.9085290482076638\n",
      "Среднее hitrate@5 test: 0.5757180156657964\n"
     ]
    }
   ],
   "source": [
    "prediction_train_top_20 = probs(X_train_top_20, y_train, cb_top_20)\n",
    "prediction_test_top_20 = probs(X_test_top_20, y_test, cb_top_20)\n",
    "\n",
    "print(f'Среднее hitrate@5 train: {hitrate(prediction_train_top_20)}')\n",
    "print(f'Среднее hitrate@5 test: {hitrate(prediction_test_top_20)}')"
   ]
  },
  {
   "cell_type": "markdown",
   "metadata": {},
   "source": [
    "Качество на трейне и на тесте немного улучшилось."
   ]
  },
  {
   "cell_type": "markdown",
   "metadata": {},
   "source": [
    "#### Searching optimal parametrs LGBM"
   ]
  },
  {
   "cell_type": "code",
   "execution_count": 51,
   "metadata": {},
   "outputs": [
    {
     "name": "stderr",
     "output_type": "stream",
     "text": [
      "C:\\Users\\Пользователь\\AppData\\Local\\Temp\\ipykernel_16132\\3352321422.py:4: SettingWithCopyWarning: \n",
      "A value is trying to be set on a copy of a slice from a DataFrame.\n",
      "Try using .loc[row_indexer,col_indexer] = value instead\n",
      "\n",
      "See the caveats in the documentation: https://pandas.pydata.org/pandas-docs/stable/user_guide/indexing.html#returning-a-view-versus-a-copy\n",
      "  X_train_top_20[['city', 'exp_group', 'topic', 'country']] = X_train_top_20[['city', 'exp_group', 'topic', 'country']].astype('category')\n"
     ]
    },
    {
     "data": {
      "text/html": [
       "<style>#sk-container-id-1 {color: black;background-color: white;}#sk-container-id-1 pre{padding: 0;}#sk-container-id-1 div.sk-toggleable {background-color: white;}#sk-container-id-1 label.sk-toggleable__label {cursor: pointer;display: block;width: 100%;margin-bottom: 0;padding: 0.3em;box-sizing: border-box;text-align: center;}#sk-container-id-1 label.sk-toggleable__label-arrow:before {content: \"▸\";float: left;margin-right: 0.25em;color: #696969;}#sk-container-id-1 label.sk-toggleable__label-arrow:hover:before {color: black;}#sk-container-id-1 div.sk-estimator:hover label.sk-toggleable__label-arrow:before {color: black;}#sk-container-id-1 div.sk-toggleable__content {max-height: 0;max-width: 0;overflow: hidden;text-align: left;background-color: #f0f8ff;}#sk-container-id-1 div.sk-toggleable__content pre {margin: 0.2em;color: black;border-radius: 0.25em;background-color: #f0f8ff;}#sk-container-id-1 input.sk-toggleable__control:checked~div.sk-toggleable__content {max-height: 200px;max-width: 100%;overflow: auto;}#sk-container-id-1 input.sk-toggleable__control:checked~label.sk-toggleable__label-arrow:before {content: \"▾\";}#sk-container-id-1 div.sk-estimator input.sk-toggleable__control:checked~label.sk-toggleable__label {background-color: #d4ebff;}#sk-container-id-1 div.sk-label input.sk-toggleable__control:checked~label.sk-toggleable__label {background-color: #d4ebff;}#sk-container-id-1 input.sk-hidden--visually {border: 0;clip: rect(1px 1px 1px 1px);clip: rect(1px, 1px, 1px, 1px);height: 1px;margin: -1px;overflow: hidden;padding: 0;position: absolute;width: 1px;}#sk-container-id-1 div.sk-estimator {font-family: monospace;background-color: #f0f8ff;border: 1px dotted black;border-radius: 0.25em;box-sizing: border-box;margin-bottom: 0.5em;}#sk-container-id-1 div.sk-estimator:hover {background-color: #d4ebff;}#sk-container-id-1 div.sk-parallel-item::after {content: \"\";width: 100%;border-bottom: 1px solid gray;flex-grow: 1;}#sk-container-id-1 div.sk-label:hover label.sk-toggleable__label {background-color: #d4ebff;}#sk-container-id-1 div.sk-serial::before {content: \"\";position: absolute;border-left: 1px solid gray;box-sizing: border-box;top: 0;bottom: 0;left: 50%;z-index: 0;}#sk-container-id-1 div.sk-serial {display: flex;flex-direction: column;align-items: center;background-color: white;padding-right: 0.2em;padding-left: 0.2em;position: relative;}#sk-container-id-1 div.sk-item {position: relative;z-index: 1;}#sk-container-id-1 div.sk-parallel {display: flex;align-items: stretch;justify-content: center;background-color: white;position: relative;}#sk-container-id-1 div.sk-item::before, #sk-container-id-1 div.sk-parallel-item::before {content: \"\";position: absolute;border-left: 1px solid gray;box-sizing: border-box;top: 0;bottom: 0;left: 50%;z-index: -1;}#sk-container-id-1 div.sk-parallel-item {display: flex;flex-direction: column;z-index: 1;position: relative;background-color: white;}#sk-container-id-1 div.sk-parallel-item:first-child::after {align-self: flex-end;width: 50%;}#sk-container-id-1 div.sk-parallel-item:last-child::after {align-self: flex-start;width: 50%;}#sk-container-id-1 div.sk-parallel-item:only-child::after {width: 0;}#sk-container-id-1 div.sk-dashed-wrapped {border: 1px dashed gray;margin: 0 0.4em 0.5em 0.4em;box-sizing: border-box;padding-bottom: 0.4em;background-color: white;}#sk-container-id-1 div.sk-label label {font-family: monospace;font-weight: bold;display: inline-block;line-height: 1.2em;}#sk-container-id-1 div.sk-label-container {text-align: center;}#sk-container-id-1 div.sk-container {/* jupyter's `normalize.less` sets `[hidden] { display: none; }` but bootstrap.min.css set `[hidden] { display: none !important; }` so we also need the `!important` here to be able to override the default hidden behavior on the sphinx rendered scikit-learn.org. See: https://github.com/scikit-learn/scikit-learn/issues/21755 */display: inline-block !important;position: relative;}#sk-container-id-1 div.sk-text-repr-fallback {display: none;}</style><div id=\"sk-container-id-1\" class=\"sk-top-container\"><div class=\"sk-text-repr-fallback\"><pre>GridSearchCV(estimator=LGBMClassifier(objective=&#x27;binary&#x27;),\n",
       "             param_grid={&#x27;learning_rate&#x27;: [0.1, 0.01, 0.001],\n",
       "                         &#x27;max_depth&#x27;: [2, 3, 5, 100],\n",
       "                         &#x27;n_estimators&#x27;: [100, 500]})</pre><b>In a Jupyter environment, please rerun this cell to show the HTML representation or trust the notebook. <br />On GitHub, the HTML representation is unable to render, please try loading this page with nbviewer.org.</b></div><div class=\"sk-container\" hidden><div class=\"sk-item sk-dashed-wrapped\"><div class=\"sk-label-container\"><div class=\"sk-label sk-toggleable\"><input class=\"sk-toggleable__control sk-hidden--visually\" id=\"sk-estimator-id-1\" type=\"checkbox\" ><label for=\"sk-estimator-id-1\" class=\"sk-toggleable__label sk-toggleable__label-arrow\">GridSearchCV</label><div class=\"sk-toggleable__content\"><pre>GridSearchCV(estimator=LGBMClassifier(objective=&#x27;binary&#x27;),\n",
       "             param_grid={&#x27;learning_rate&#x27;: [0.1, 0.01, 0.001],\n",
       "                         &#x27;max_depth&#x27;: [2, 3, 5, 100],\n",
       "                         &#x27;n_estimators&#x27;: [100, 500]})</pre></div></div></div><div class=\"sk-parallel\"><div class=\"sk-parallel-item\"><div class=\"sk-item\"><div class=\"sk-label-container\"><div class=\"sk-label sk-toggleable\"><input class=\"sk-toggleable__control sk-hidden--visually\" id=\"sk-estimator-id-2\" type=\"checkbox\" ><label for=\"sk-estimator-id-2\" class=\"sk-toggleable__label sk-toggleable__label-arrow\">estimator: LGBMClassifier</label><div class=\"sk-toggleable__content\"><pre>LGBMClassifier(objective=&#x27;binary&#x27;)</pre></div></div></div><div class=\"sk-serial\"><div class=\"sk-item\"><div class=\"sk-estimator sk-toggleable\"><input class=\"sk-toggleable__control sk-hidden--visually\" id=\"sk-estimator-id-3\" type=\"checkbox\" ><label for=\"sk-estimator-id-3\" class=\"sk-toggleable__label sk-toggleable__label-arrow\">LGBMClassifier</label><div class=\"sk-toggleable__content\"><pre>LGBMClassifier(objective=&#x27;binary&#x27;)</pre></div></div></div></div></div></div></div></div></div></div>"
      ],
      "text/plain": [
       "GridSearchCV(estimator=LGBMClassifier(objective='binary'),\n",
       "             param_grid={'learning_rate': [0.1, 0.01, 0.001],\n",
       "                         'max_depth': [2, 3, 5, 100],\n",
       "                         'n_estimators': [100, 500]})"
      ]
     },
     "execution_count": 51,
     "metadata": {},
     "output_type": "execute_result"
    }
   ],
   "source": [
    "from lightgbm import LGBMClassifier\n",
    "from sklearn.model_selection import GridSearchCV\n",
    "\n",
    "X_train_top_20[['city', 'exp_group', 'topic', 'country']] = X_train_top_20[['city', 'exp_group', 'topic', 'country']].astype('category')\n",
    "\n",
    "params = {'n_estimators': [100, 500],\n",
    "          'max_depth': [2, 3, 5, 100],\n",
    "          'learning_rate': [0.1, 0.01, 0.001]}\n",
    "\n",
    "grid = GridSearchCV(LGBMClassifier(), params)\n",
    "grid.fit(X_train_top_20, y_train)"
   ]
  },
  {
   "cell_type": "code",
   "execution_count": 52,
   "metadata": {},
   "outputs": [
    {
     "data": {
      "text/html": [
       "<style>#sk-container-id-2 {color: black;background-color: white;}#sk-container-id-2 pre{padding: 0;}#sk-container-id-2 div.sk-toggleable {background-color: white;}#sk-container-id-2 label.sk-toggleable__label {cursor: pointer;display: block;width: 100%;margin-bottom: 0;padding: 0.3em;box-sizing: border-box;text-align: center;}#sk-container-id-2 label.sk-toggleable__label-arrow:before {content: \"▸\";float: left;margin-right: 0.25em;color: #696969;}#sk-container-id-2 label.sk-toggleable__label-arrow:hover:before {color: black;}#sk-container-id-2 div.sk-estimator:hover label.sk-toggleable__label-arrow:before {color: black;}#sk-container-id-2 div.sk-toggleable__content {max-height: 0;max-width: 0;overflow: hidden;text-align: left;background-color: #f0f8ff;}#sk-container-id-2 div.sk-toggleable__content pre {margin: 0.2em;color: black;border-radius: 0.25em;background-color: #f0f8ff;}#sk-container-id-2 input.sk-toggleable__control:checked~div.sk-toggleable__content {max-height: 200px;max-width: 100%;overflow: auto;}#sk-container-id-2 input.sk-toggleable__control:checked~label.sk-toggleable__label-arrow:before {content: \"▾\";}#sk-container-id-2 div.sk-estimator input.sk-toggleable__control:checked~label.sk-toggleable__label {background-color: #d4ebff;}#sk-container-id-2 div.sk-label input.sk-toggleable__control:checked~label.sk-toggleable__label {background-color: #d4ebff;}#sk-container-id-2 input.sk-hidden--visually {border: 0;clip: rect(1px 1px 1px 1px);clip: rect(1px, 1px, 1px, 1px);height: 1px;margin: -1px;overflow: hidden;padding: 0;position: absolute;width: 1px;}#sk-container-id-2 div.sk-estimator {font-family: monospace;background-color: #f0f8ff;border: 1px dotted black;border-radius: 0.25em;box-sizing: border-box;margin-bottom: 0.5em;}#sk-container-id-2 div.sk-estimator:hover {background-color: #d4ebff;}#sk-container-id-2 div.sk-parallel-item::after {content: \"\";width: 100%;border-bottom: 1px solid gray;flex-grow: 1;}#sk-container-id-2 div.sk-label:hover label.sk-toggleable__label {background-color: #d4ebff;}#sk-container-id-2 div.sk-serial::before {content: \"\";position: absolute;border-left: 1px solid gray;box-sizing: border-box;top: 0;bottom: 0;left: 50%;z-index: 0;}#sk-container-id-2 div.sk-serial {display: flex;flex-direction: column;align-items: center;background-color: white;padding-right: 0.2em;padding-left: 0.2em;position: relative;}#sk-container-id-2 div.sk-item {position: relative;z-index: 1;}#sk-container-id-2 div.sk-parallel {display: flex;align-items: stretch;justify-content: center;background-color: white;position: relative;}#sk-container-id-2 div.sk-item::before, #sk-container-id-2 div.sk-parallel-item::before {content: \"\";position: absolute;border-left: 1px solid gray;box-sizing: border-box;top: 0;bottom: 0;left: 50%;z-index: -1;}#sk-container-id-2 div.sk-parallel-item {display: flex;flex-direction: column;z-index: 1;position: relative;background-color: white;}#sk-container-id-2 div.sk-parallel-item:first-child::after {align-self: flex-end;width: 50%;}#sk-container-id-2 div.sk-parallel-item:last-child::after {align-self: flex-start;width: 50%;}#sk-container-id-2 div.sk-parallel-item:only-child::after {width: 0;}#sk-container-id-2 div.sk-dashed-wrapped {border: 1px dashed gray;margin: 0 0.4em 0.5em 0.4em;box-sizing: border-box;padding-bottom: 0.4em;background-color: white;}#sk-container-id-2 div.sk-label label {font-family: monospace;font-weight: bold;display: inline-block;line-height: 1.2em;}#sk-container-id-2 div.sk-label-container {text-align: center;}#sk-container-id-2 div.sk-container {/* jupyter's `normalize.less` sets `[hidden] { display: none; }` but bootstrap.min.css set `[hidden] { display: none !important; }` so we also need the `!important` here to be able to override the default hidden behavior on the sphinx rendered scikit-learn.org. See: https://github.com/scikit-learn/scikit-learn/issues/21755 */display: inline-block !important;position: relative;}#sk-container-id-2 div.sk-text-repr-fallback {display: none;}</style><div id=\"sk-container-id-2\" class=\"sk-top-container\"><div class=\"sk-text-repr-fallback\"><pre>LGBMClassifier(max_depth=2, n_estimators=100, objective=&#x27;binary&#x27;)</pre><b>In a Jupyter environment, please rerun this cell to show the HTML representation or trust the notebook. <br />On GitHub, the HTML representation is unable to render, please try loading this page with nbviewer.org.</b></div><div class=\"sk-container\" hidden><div class=\"sk-item\"><div class=\"sk-estimator sk-toggleable\"><input class=\"sk-toggleable__control sk-hidden--visually\" id=\"sk-estimator-id-4\" type=\"checkbox\" checked><label for=\"sk-estimator-id-4\" class=\"sk-toggleable__label sk-toggleable__label-arrow\">LGBMClassifier</label><div class=\"sk-toggleable__content\"><pre>LGBMClassifier(max_depth=2, n_estimators=100, objective=&#x27;binary&#x27;)</pre></div></div></div></div></div>"
      ],
      "text/plain": [
       "LGBMClassifier(max_depth=2, n_estimators=100, objective='binary')"
      ]
     },
     "execution_count": 52,
     "metadata": {},
     "output_type": "execute_result"
    }
   ],
   "source": [
    "grid.best_estimator_"
   ]
  },
  {
   "cell_type": "markdown",
   "metadata": {},
   "source": [
    "#### LGBM with optimal parametrs"
   ]
  },
  {
   "cell_type": "code",
   "execution_count": 53,
   "metadata": {},
   "outputs": [
    {
     "data": {
      "text/plain": [
       "['country', 'city', 'exp_group', 'topic']"
      ]
     },
     "execution_count": 53,
     "metadata": {},
     "output_type": "execute_result"
    }
   ],
   "source": [
    "obj_cols = X_test.select_dtypes(include='object').columns.tolist()\n",
    "X_train_cat = X_train.copy()\n",
    "X_test_cat = X_test.copy()\n",
    "obj_cols"
   ]
  },
  {
   "cell_type": "code",
   "execution_count": 54,
   "metadata": {},
   "outputs": [
    {
     "data": {
      "text/html": [
       "<style>#sk-container-id-3 {color: black;background-color: white;}#sk-container-id-3 pre{padding: 0;}#sk-container-id-3 div.sk-toggleable {background-color: white;}#sk-container-id-3 label.sk-toggleable__label {cursor: pointer;display: block;width: 100%;margin-bottom: 0;padding: 0.3em;box-sizing: border-box;text-align: center;}#sk-container-id-3 label.sk-toggleable__label-arrow:before {content: \"▸\";float: left;margin-right: 0.25em;color: #696969;}#sk-container-id-3 label.sk-toggleable__label-arrow:hover:before {color: black;}#sk-container-id-3 div.sk-estimator:hover label.sk-toggleable__label-arrow:before {color: black;}#sk-container-id-3 div.sk-toggleable__content {max-height: 0;max-width: 0;overflow: hidden;text-align: left;background-color: #f0f8ff;}#sk-container-id-3 div.sk-toggleable__content pre {margin: 0.2em;color: black;border-radius: 0.25em;background-color: #f0f8ff;}#sk-container-id-3 input.sk-toggleable__control:checked~div.sk-toggleable__content {max-height: 200px;max-width: 100%;overflow: auto;}#sk-container-id-3 input.sk-toggleable__control:checked~label.sk-toggleable__label-arrow:before {content: \"▾\";}#sk-container-id-3 div.sk-estimator input.sk-toggleable__control:checked~label.sk-toggleable__label {background-color: #d4ebff;}#sk-container-id-3 div.sk-label input.sk-toggleable__control:checked~label.sk-toggleable__label {background-color: #d4ebff;}#sk-container-id-3 input.sk-hidden--visually {border: 0;clip: rect(1px 1px 1px 1px);clip: rect(1px, 1px, 1px, 1px);height: 1px;margin: -1px;overflow: hidden;padding: 0;position: absolute;width: 1px;}#sk-container-id-3 div.sk-estimator {font-family: monospace;background-color: #f0f8ff;border: 1px dotted black;border-radius: 0.25em;box-sizing: border-box;margin-bottom: 0.5em;}#sk-container-id-3 div.sk-estimator:hover {background-color: #d4ebff;}#sk-container-id-3 div.sk-parallel-item::after {content: \"\";width: 100%;border-bottom: 1px solid gray;flex-grow: 1;}#sk-container-id-3 div.sk-label:hover label.sk-toggleable__label {background-color: #d4ebff;}#sk-container-id-3 div.sk-serial::before {content: \"\";position: absolute;border-left: 1px solid gray;box-sizing: border-box;top: 0;bottom: 0;left: 50%;z-index: 0;}#sk-container-id-3 div.sk-serial {display: flex;flex-direction: column;align-items: center;background-color: white;padding-right: 0.2em;padding-left: 0.2em;position: relative;}#sk-container-id-3 div.sk-item {position: relative;z-index: 1;}#sk-container-id-3 div.sk-parallel {display: flex;align-items: stretch;justify-content: center;background-color: white;position: relative;}#sk-container-id-3 div.sk-item::before, #sk-container-id-3 div.sk-parallel-item::before {content: \"\";position: absolute;border-left: 1px solid gray;box-sizing: border-box;top: 0;bottom: 0;left: 50%;z-index: -1;}#sk-container-id-3 div.sk-parallel-item {display: flex;flex-direction: column;z-index: 1;position: relative;background-color: white;}#sk-container-id-3 div.sk-parallel-item:first-child::after {align-self: flex-end;width: 50%;}#sk-container-id-3 div.sk-parallel-item:last-child::after {align-self: flex-start;width: 50%;}#sk-container-id-3 div.sk-parallel-item:only-child::after {width: 0;}#sk-container-id-3 div.sk-dashed-wrapped {border: 1px dashed gray;margin: 0 0.4em 0.5em 0.4em;box-sizing: border-box;padding-bottom: 0.4em;background-color: white;}#sk-container-id-3 div.sk-label label {font-family: monospace;font-weight: bold;display: inline-block;line-height: 1.2em;}#sk-container-id-3 div.sk-label-container {text-align: center;}#sk-container-id-3 div.sk-container {/* jupyter's `normalize.less` sets `[hidden] { display: none; }` but bootstrap.min.css set `[hidden] { display: none !important; }` so we also need the `!important` here to be able to override the default hidden behavior on the sphinx rendered scikit-learn.org. See: https://github.com/scikit-learn/scikit-learn/issues/21755 */display: inline-block !important;position: relative;}#sk-container-id-3 div.sk-text-repr-fallback {display: none;}</style><div id=\"sk-container-id-3\" class=\"sk-top-container\"><div class=\"sk-text-repr-fallback\"><pre>LGBMClassifier(max_depth=2, n_estimators=100, objective=&#x27;binary&#x27;)</pre><b>In a Jupyter environment, please rerun this cell to show the HTML representation or trust the notebook. <br />On GitHub, the HTML representation is unable to render, please try loading this page with nbviewer.org.</b></div><div class=\"sk-container\" hidden><div class=\"sk-item\"><div class=\"sk-estimator sk-toggleable\"><input class=\"sk-toggleable__control sk-hidden--visually\" id=\"sk-estimator-id-5\" type=\"checkbox\" checked><label for=\"sk-estimator-id-5\" class=\"sk-toggleable__label sk-toggleable__label-arrow\">LGBMClassifier</label><div class=\"sk-toggleable__content\"><pre>LGBMClassifier(max_depth=2, n_estimators=100, objective=&#x27;binary&#x27;)</pre></div></div></div></div></div>"
      ],
      "text/plain": [
       "LGBMClassifier(max_depth=2, n_estimators=100, objective='binary')"
      ]
     },
     "execution_count": 54,
     "metadata": {},
     "output_type": "execute_result"
    }
   ],
   "source": [
    "X_train_cat[obj_cols] = X_train_cat[obj_cols].astype('category')\n",
    "X_test_cat[obj_cols] = X_test_cat[obj_cols].astype('category')\n",
    "\n",
    "\n",
    "lgbm = LGBMClassifier(max_depth=2, n_estimators=100)\n",
    "lgbm.fit(X_train_cat, y_train)"
   ]
  },
  {
   "cell_type": "markdown",
   "metadata": {},
   "source": [
    "#### Quality metrics results"
   ]
  },
  {
   "cell_type": "code",
   "execution_count": 55,
   "metadata": {},
   "outputs": [
    {
     "name": "stdout",
     "output_type": "stream",
     "text": [
      "Train ROC-AUC score: 0.6485218618829074\n",
      "Test ROC-AUC score: 0.6115309626657695\n"
     ]
    }
   ],
   "source": [
    "print(f\"Train ROC-AUC score: {roc_auc_score(y_train, lgbm.predict_proba(X_train_cat)[:, 1])}\")\n",
    "print(f\"Test ROC-AUC score: {roc_auc_score(y_test, lgbm.predict_proba(X_test_cat)[:, 1])}\")"
   ]
  },
  {
   "cell_type": "code",
   "execution_count": 56,
   "metadata": {},
   "outputs": [
    {
     "name": "stdout",
     "output_type": "stream",
     "text": [
      "Среднее hitrate@5 train: 0.6353522867737948\n",
      "Среднее hitrate@5 test: 0.5391644908616188\n"
     ]
    }
   ],
   "source": [
    "pred_lgbm_train = probs(X_train_cat, y_train, lgbm)\n",
    "pred_lgbm_test = probs(X_test_cat, y_test, lgbm)\n",
    "\n",
    "print(f'Среднее hitrate@5 train: {hitrate(pred_lgbm_train)}')\n",
    "print(f'Среднее hitrate@5 test: {hitrate(pred_lgbm_test)}')"
   ]
  },
  {
   "cell_type": "markdown",
   "metadata": {},
   "source": [
    "LGBMClassifier выдает меньшее качество на всех фичах."
   ]
  },
  {
   "cell_type": "markdown",
   "metadata": {},
   "source": [
    "#### LGBM with top-20 important features"
   ]
  },
  {
   "cell_type": "code",
   "execution_count": 57,
   "metadata": {},
   "outputs": [
    {
     "data": {
      "image/png": "[encoded data removed]",
      "text/plain": [
       "<Figure size 1000x800 with 1 Axes>"
      ]
     },
     "metadata": {},
     "output_type": "display_data"
    }
   ],
   "source": [
    "col_top_20_lgbm = feature_importance(data=data, model=lgbm)\n",
    "plot_feature_importance(col_top_20, 'LGBMClassifier')"
   ]
  },
  {
   "cell_type": "code",
   "execution_count": 58,
   "metadata": {},
   "outputs": [
    {
     "data": {
      "text/html": [
       "<div>\n",
       "<style scoped>\n",
       "    .dataframe tbody tr th:only-of-type {\n",
       "        vertical-align: middle;\n",
       "    }\n",
       "\n",
       "    .dataframe tbody tr th {\n",
       "        vertical-align: top;\n",
       "    }\n",
       "\n",
       "    .dataframe thead th {\n",
       "        text-align: right;\n",
       "    }\n",
       "</style>\n",
       "<table border=\"1\" class=\"dataframe\">\n",
       "  <thead>\n",
       "    <tr style=\"text-align: right;\">\n",
       "      <th></th>\n",
       "      <th></th>\n",
       "      <th>age</th>\n",
       "      <th>city</th>\n",
       "      <th>hour</th>\n",
       "      <th>exp_group</th>\n",
       "      <th>topic</th>\n",
       "      <th>month</th>\n",
       "      <th>country</th>\n",
       "      <th>day_of_week</th>\n",
       "      <th>PCA_12</th>\n",
       "      <th>PCA_59</th>\n",
       "      <th>PCA_71</th>\n",
       "      <th>PCA_79</th>\n",
       "      <th>PCA_18</th>\n",
       "      <th>PCA_33</th>\n",
       "      <th>PCA_57</th>\n",
       "      <th>PCA_73</th>\n",
       "      <th>PCA_56</th>\n",
       "      <th>PCA_61</th>\n",
       "      <th>PCA_7</th>\n",
       "      <th>PCA_14</th>\n",
       "    </tr>\n",
       "    <tr>\n",
       "      <th>user_id</th>\n",
       "      <th>post_id</th>\n",
       "      <th></th>\n",
       "      <th></th>\n",
       "      <th></th>\n",
       "      <th></th>\n",
       "      <th></th>\n",
       "      <th></th>\n",
       "      <th></th>\n",
       "      <th></th>\n",
       "      <th></th>\n",
       "      <th></th>\n",
       "      <th></th>\n",
       "      <th></th>\n",
       "      <th></th>\n",
       "      <th></th>\n",
       "      <th></th>\n",
       "      <th></th>\n",
       "      <th></th>\n",
       "      <th></th>\n",
       "      <th></th>\n",
       "      <th></th>\n",
       "    </tr>\n",
       "  </thead>\n",
       "  <tbody>\n",
       "    <tr>\n",
       "      <th rowspan=\"5\" valign=\"top\">200</th>\n",
       "      <th>28</th>\n",
       "      <td>34</td>\n",
       "      <td>Degtyarsk</td>\n",
       "      <td>19</td>\n",
       "      <td>3</td>\n",
       "      <td>business</td>\n",
       "      <td>11</td>\n",
       "      <td>Russia</td>\n",
       "      <td>5</td>\n",
       "      <td>0.002327</td>\n",
       "      <td>0.004896</td>\n",
       "      <td>0.007821</td>\n",
       "      <td>0.018639</td>\n",
       "      <td>0.026814</td>\n",
       "      <td>-0.033474</td>\n",
       "      <td>0.004595</td>\n",
       "      <td>-0.031591</td>\n",
       "      <td>-0.034496</td>\n",
       "      <td>-0.002116</td>\n",
       "      <td>-0.004236</td>\n",
       "      <td>0.016761</td>\n",
       "    </tr>\n",
       "    <tr>\n",
       "      <th>2</th>\n",
       "      <td>34</td>\n",
       "      <td>Degtyarsk</td>\n",
       "      <td>19</td>\n",
       "      <td>3</td>\n",
       "      <td>business</td>\n",
       "      <td>10</td>\n",
       "      <td>Russia</td>\n",
       "      <td>4</td>\n",
       "      <td>0.036271</td>\n",
       "      <td>-0.029555</td>\n",
       "      <td>0.044362</td>\n",
       "      <td>0.017617</td>\n",
       "      <td>0.005042</td>\n",
       "      <td>0.010389</td>\n",
       "      <td>-0.015919</td>\n",
       "      <td>0.005191</td>\n",
       "      <td>0.042452</td>\n",
       "      <td>-0.025727</td>\n",
       "      <td>-0.002087</td>\n",
       "      <td>0.007317</td>\n",
       "    </tr>\n",
       "    <tr>\n",
       "      <th>438</th>\n",
       "      <td>34</td>\n",
       "      <td>Degtyarsk</td>\n",
       "      <td>15</td>\n",
       "      <td>3</td>\n",
       "      <td>business</td>\n",
       "      <td>10</td>\n",
       "      <td>Russia</td>\n",
       "      <td>2</td>\n",
       "      <td>-0.030971</td>\n",
       "      <td>-0.011442</td>\n",
       "      <td>0.003814</td>\n",
       "      <td>0.001994</td>\n",
       "      <td>-0.020219</td>\n",
       "      <td>-0.007560</td>\n",
       "      <td>0.017023</td>\n",
       "      <td>-0.001784</td>\n",
       "      <td>0.031592</td>\n",
       "      <td>0.014459</td>\n",
       "      <td>-0.008889</td>\n",
       "      <td>0.013816</td>\n",
       "    </tr>\n",
       "    <tr>\n",
       "      <th>1141</th>\n",
       "      <td>34</td>\n",
       "      <td>Degtyarsk</td>\n",
       "      <td>15</td>\n",
       "      <td>3</td>\n",
       "      <td>politics</td>\n",
       "      <td>10</td>\n",
       "      <td>Russia</td>\n",
       "      <td>2</td>\n",
       "      <td>-0.019650</td>\n",
       "      <td>0.022379</td>\n",
       "      <td>0.013474</td>\n",
       "      <td>0.006578</td>\n",
       "      <td>-0.012667</td>\n",
       "      <td>0.001956</td>\n",
       "      <td>-0.010491</td>\n",
       "      <td>-0.010406</td>\n",
       "      <td>-0.008049</td>\n",
       "      <td>0.031564</td>\n",
       "      <td>-0.000647</td>\n",
       "      <td>-0.006429</td>\n",
       "    </tr>\n",
       "    <tr>\n",
       "      <th>7175</th>\n",
       "      <td>34</td>\n",
       "      <td>Degtyarsk</td>\n",
       "      <td>20</td>\n",
       "      <td>3</td>\n",
       "      <td>movie</td>\n",
       "      <td>10</td>\n",
       "      <td>Russia</td>\n",
       "      <td>3</td>\n",
       "      <td>0.019558</td>\n",
       "      <td>0.019451</td>\n",
       "      <td>0.051868</td>\n",
       "      <td>-0.025435</td>\n",
       "      <td>0.007349</td>\n",
       "      <td>-0.003466</td>\n",
       "      <td>-0.007421</td>\n",
       "      <td>0.009413</td>\n",
       "      <td>0.032579</td>\n",
       "      <td>0.014837</td>\n",
       "      <td>0.013716</td>\n",
       "      <td>-0.016336</td>\n",
       "    </tr>\n",
       "    <tr>\n",
       "      <th>...</th>\n",
       "      <th>...</th>\n",
       "      <td>...</td>\n",
       "      <td>...</td>\n",
       "      <td>...</td>\n",
       "      <td>...</td>\n",
       "      <td>...</td>\n",
       "      <td>...</td>\n",
       "      <td>...</td>\n",
       "      <td>...</td>\n",
       "      <td>...</td>\n",
       "      <td>...</td>\n",
       "      <td>...</td>\n",
       "      <td>...</td>\n",
       "      <td>...</td>\n",
       "      <td>...</td>\n",
       "      <td>...</td>\n",
       "      <td>...</td>\n",
       "      <td>...</td>\n",
       "      <td>...</td>\n",
       "      <td>...</td>\n",
       "      <td>...</td>\n",
       "    </tr>\n",
       "    <tr>\n",
       "      <th rowspan=\"5\" valign=\"top\">1008</th>\n",
       "      <th>6069</th>\n",
       "      <td>16</td>\n",
       "      <td>Korocha</td>\n",
       "      <td>7</td>\n",
       "      <td>4</td>\n",
       "      <td>movie</td>\n",
       "      <td>10</td>\n",
       "      <td>Russia</td>\n",
       "      <td>6</td>\n",
       "      <td>-0.006290</td>\n",
       "      <td>0.032270</td>\n",
       "      <td>0.014331</td>\n",
       "      <td>0.014664</td>\n",
       "      <td>-0.004459</td>\n",
       "      <td>-0.059267</td>\n",
       "      <td>-0.018661</td>\n",
       "      <td>-0.001910</td>\n",
       "      <td>-0.000468</td>\n",
       "      <td>0.003977</td>\n",
       "      <td>0.020389</td>\n",
       "      <td>0.020380</td>\n",
       "    </tr>\n",
       "    <tr>\n",
       "      <th>5587</th>\n",
       "      <td>16</td>\n",
       "      <td>Korocha</td>\n",
       "      <td>15</td>\n",
       "      <td>4</td>\n",
       "      <td>movie</td>\n",
       "      <td>10</td>\n",
       "      <td>Russia</td>\n",
       "      <td>6</td>\n",
       "      <td>0.018907</td>\n",
       "      <td>0.030950</td>\n",
       "      <td>0.046085</td>\n",
       "      <td>0.006548</td>\n",
       "      <td>0.024400</td>\n",
       "      <td>-0.008299</td>\n",
       "      <td>0.013445</td>\n",
       "      <td>0.001114</td>\n",
       "      <td>-0.033211</td>\n",
       "      <td>0.059934</td>\n",
       "      <td>-0.021187</td>\n",
       "      <td>0.015851</td>\n",
       "    </tr>\n",
       "    <tr>\n",
       "      <th>2277</th>\n",
       "      <td>16</td>\n",
       "      <td>Korocha</td>\n",
       "      <td>8</td>\n",
       "      <td>4</td>\n",
       "      <td>tech</td>\n",
       "      <td>11</td>\n",
       "      <td>Russia</td>\n",
       "      <td>1</td>\n",
       "      <td>-0.049288</td>\n",
       "      <td>0.016491</td>\n",
       "      <td>0.041173</td>\n",
       "      <td>-0.034788</td>\n",
       "      <td>0.023894</td>\n",
       "      <td>-0.010587</td>\n",
       "      <td>0.008085</td>\n",
       "      <td>-0.037335</td>\n",
       "      <td>0.006949</td>\n",
       "      <td>-0.014628</td>\n",
       "      <td>0.002947</td>\n",
       "      <td>0.011017</td>\n",
       "    </tr>\n",
       "    <tr>\n",
       "      <th>3937</th>\n",
       "      <td>16</td>\n",
       "      <td>Korocha</td>\n",
       "      <td>22</td>\n",
       "      <td>4</td>\n",
       "      <td>covid</td>\n",
       "      <td>11</td>\n",
       "      <td>Russia</td>\n",
       "      <td>3</td>\n",
       "      <td>-0.019436</td>\n",
       "      <td>-0.021725</td>\n",
       "      <td>-0.031095</td>\n",
       "      <td>0.026348</td>\n",
       "      <td>0.003593</td>\n",
       "      <td>0.037600</td>\n",
       "      <td>0.003359</td>\n",
       "      <td>0.019543</td>\n",
       "      <td>-0.015194</td>\n",
       "      <td>0.033958</td>\n",
       "      <td>0.014220</td>\n",
       "      <td>0.019602</td>\n",
       "    </tr>\n",
       "    <tr>\n",
       "      <th>5397</th>\n",
       "      <td>16</td>\n",
       "      <td>Korocha</td>\n",
       "      <td>16</td>\n",
       "      <td>4</td>\n",
       "      <td>movie</td>\n",
       "      <td>11</td>\n",
       "      <td>Russia</td>\n",
       "      <td>0</td>\n",
       "      <td>0.024455</td>\n",
       "      <td>0.025164</td>\n",
       "      <td>0.022843</td>\n",
       "      <td>0.003264</td>\n",
       "      <td>0.092815</td>\n",
       "      <td>0.047729</td>\n",
       "      <td>-0.028808</td>\n",
       "      <td>-0.009881</td>\n",
       "      <td>0.023351</td>\n",
       "      <td>0.011733</td>\n",
       "      <td>-0.031650</td>\n",
       "      <td>0.034931</td>\n",
       "    </tr>\n",
       "  </tbody>\n",
       "</table>\n",
       "<p>69873 rows × 20 columns</p>\n",
       "</div>"
      ],
      "text/plain": [
       "                 age       city  hour exp_group     topic  month country  \\\n",
       "user_id post_id                                                            \n",
       "200     28        34  Degtyarsk    19         3  business     11  Russia   \n",
       "        2         34  Degtyarsk    19         3  business     10  Russia   \n",
       "        438       34  Degtyarsk    15         3  business     10  Russia   \n",
       "        1141      34  Degtyarsk    15         3  politics     10  Russia   \n",
       "        7175      34  Degtyarsk    20         3     movie     10  Russia   \n",
       "...              ...        ...   ...       ...       ...    ...     ...   \n",
       "1008    6069      16    Korocha     7         4     movie     10  Russia   \n",
       "        5587      16    Korocha    15         4     movie     10  Russia   \n",
       "        2277      16    Korocha     8         4      tech     11  Russia   \n",
       "        3937      16    Korocha    22         4     covid     11  Russia   \n",
       "        5397      16    Korocha    16         4     movie     11  Russia   \n",
       "\n",
       "                 day_of_week    PCA_12    PCA_59    PCA_71    PCA_79  \\\n",
       "user_id post_id                                                        \n",
       "200     28                 5  0.002327  0.004896  0.007821  0.018639   \n",
       "        2                  4  0.036271 -0.029555  0.044362  0.017617   \n",
       "        438                2 -0.030971 -0.011442  0.003814  0.001994   \n",
       "        1141               2 -0.019650  0.022379  0.013474  0.006578   \n",
       "        7175               3  0.019558  0.019451  0.051868 -0.025435   \n",
       "...                      ...       ...       ...       ...       ...   \n",
       "1008    6069               6 -0.006290  0.032270  0.014331  0.014664   \n",
       "        5587               6  0.018907  0.030950  0.046085  0.006548   \n",
       "        2277               1 -0.049288  0.016491  0.041173 -0.034788   \n",
       "        3937               3 -0.019436 -0.021725 -0.031095  0.026348   \n",
       "        5397               0  0.024455  0.025164  0.022843  0.003264   \n",
       "\n",
       "                   PCA_18    PCA_33    PCA_57    PCA_73    PCA_56    PCA_61  \\\n",
       "user_id post_id                                                               \n",
       "200     28       0.026814 -0.033474  0.004595 -0.031591 -0.034496 -0.002116   \n",
       "        2        0.005042  0.010389 -0.015919  0.005191  0.042452 -0.025727   \n",
       "        438     -0.020219 -0.007560  0.017023 -0.001784  0.031592  0.014459   \n",
       "        1141    -0.012667  0.001956 -0.010491 -0.010406 -0.008049  0.031564   \n",
       "        7175     0.007349 -0.003466 -0.007421  0.009413  0.032579  0.014837   \n",
       "...                   ...       ...       ...       ...       ...       ...   \n",
       "1008    6069    -0.004459 -0.059267 -0.018661 -0.001910 -0.000468  0.003977   \n",
       "        5587     0.024400 -0.008299  0.013445  0.001114 -0.033211  0.059934   \n",
       "        2277     0.023894 -0.010587  0.008085 -0.037335  0.006949 -0.014628   \n",
       "        3937     0.003593  0.037600  0.003359  0.019543 -0.015194  0.033958   \n",
       "        5397     0.092815  0.047729 -0.028808 -0.009881  0.023351  0.011733   \n",
       "\n",
       "                    PCA_7    PCA_14  \n",
       "user_id post_id                      \n",
       "200     28      -0.004236  0.016761  \n",
       "        2       -0.002087  0.007317  \n",
       "        438     -0.008889  0.013816  \n",
       "        1141    -0.000647 -0.006429  \n",
       "        7175     0.013716 -0.016336  \n",
       "...                   ...       ...  \n",
       "1008    6069     0.020389  0.020380  \n",
       "        5587    -0.021187  0.015851  \n",
       "        2277     0.002947  0.011017  \n",
       "        3937     0.014220  0.019602  \n",
       "        5397    -0.031650  0.034931  \n",
       "\n",
       "[69873 rows x 20 columns]"
      ]
     },
     "execution_count": 58,
     "metadata": {},
     "output_type": "execute_result"
    }
   ],
   "source": [
    "X_train_top_20, X_test_top_20 = X_train[col_top_20['feature_names'].tolist()], X_test[col_top_20['feature_names'].tolist()]\n",
    "X_train_top_20"
   ]
  },
  {
   "cell_type": "code",
   "execution_count": 59,
   "metadata": {},
   "outputs": [
    {
     "data": {
      "text/plain": [
       "['city', 'exp_group', 'topic', 'country']"
      ]
     },
     "execution_count": 59,
     "metadata": {},
     "output_type": "execute_result"
    }
   ],
   "source": [
    "obj_cols_20 = X_test_top_20.select_dtypes(include='object').columns.tolist()\n",
    "obj_cols_20"
   ]
  },
  {
   "cell_type": "code",
   "execution_count": 60,
   "metadata": {},
   "outputs": [
    {
     "name": "stderr",
     "output_type": "stream",
     "text": [
      "C:\\Users\\Пользователь\\AppData\\Local\\Temp\\ipykernel_16132\\3738576686.py:1: SettingWithCopyWarning: \n",
      "A value is trying to be set on a copy of a slice from a DataFrame.\n",
      "Try using .loc[row_indexer,col_indexer] = value instead\n",
      "\n",
      "See the caveats in the documentation: https://pandas.pydata.org/pandas-docs/stable/user_guide/indexing.html#returning-a-view-versus-a-copy\n",
      "  X_train_top_20[obj_cols_20] = X_train_top_20[obj_cols_20].astype('category')\n",
      "C:\\Users\\Пользователь\\AppData\\Local\\Temp\\ipykernel_16132\\3738576686.py:2: SettingWithCopyWarning: \n",
      "A value is trying to be set on a copy of a slice from a DataFrame.\n",
      "Try using .loc[row_indexer,col_indexer] = value instead\n",
      "\n",
      "See the caveats in the documentation: https://pandas.pydata.org/pandas-docs/stable/user_guide/indexing.html#returning-a-view-versus-a-copy\n",
      "  X_test_top_20[obj_cols_20] = X_test_top_20[obj_cols_20].astype('category')\n"
     ]
    },
    {
     "data": {
      "text/html": [
       "<style>#sk-container-id-4 {color: black;background-color: white;}#sk-container-id-4 pre{padding: 0;}#sk-container-id-4 div.sk-toggleable {background-color: white;}#sk-container-id-4 label.sk-toggleable__label {cursor: pointer;display: block;width: 100%;margin-bottom: 0;padding: 0.3em;box-sizing: border-box;text-align: center;}#sk-container-id-4 label.sk-toggleable__label-arrow:before {content: \"▸\";float: left;margin-right: 0.25em;color: #696969;}#sk-container-id-4 label.sk-toggleable__label-arrow:hover:before {color: black;}#sk-container-id-4 div.sk-estimator:hover label.sk-toggleable__label-arrow:before {color: black;}#sk-container-id-4 div.sk-toggleable__content {max-height: 0;max-width: 0;overflow: hidden;text-align: left;background-color: #f0f8ff;}#sk-container-id-4 div.sk-toggleable__content pre {margin: 0.2em;color: black;border-radius: 0.25em;background-color: #f0f8ff;}#sk-container-id-4 input.sk-toggleable__control:checked~div.sk-toggleable__content {max-height: 200px;max-width: 100%;overflow: auto;}#sk-container-id-4 input.sk-toggleable__control:checked~label.sk-toggleable__label-arrow:before {content: \"▾\";}#sk-container-id-4 div.sk-estimator input.sk-toggleable__control:checked~label.sk-toggleable__label {background-color: #d4ebff;}#sk-container-id-4 div.sk-label input.sk-toggleable__control:checked~label.sk-toggleable__label {background-color: #d4ebff;}#sk-container-id-4 input.sk-hidden--visually {border: 0;clip: rect(1px 1px 1px 1px);clip: rect(1px, 1px, 1px, 1px);height: 1px;margin: -1px;overflow: hidden;padding: 0;position: absolute;width: 1px;}#sk-container-id-4 div.sk-estimator {font-family: monospace;background-color: #f0f8ff;border: 1px dotted black;border-radius: 0.25em;box-sizing: border-box;margin-bottom: 0.5em;}#sk-container-id-4 div.sk-estimator:hover {background-color: #d4ebff;}#sk-container-id-4 div.sk-parallel-item::after {content: \"\";width: 100%;border-bottom: 1px solid gray;flex-grow: 1;}#sk-container-id-4 div.sk-label:hover label.sk-toggleable__label {background-color: #d4ebff;}#sk-container-id-4 div.sk-serial::before {content: \"\";position: absolute;border-left: 1px solid gray;box-sizing: border-box;top: 0;bottom: 0;left: 50%;z-index: 0;}#sk-container-id-4 div.sk-serial {display: flex;flex-direction: column;align-items: center;background-color: white;padding-right: 0.2em;padding-left: 0.2em;position: relative;}#sk-container-id-4 div.sk-item {position: relative;z-index: 1;}#sk-container-id-4 div.sk-parallel {display: flex;align-items: stretch;justify-content: center;background-color: white;position: relative;}#sk-container-id-4 div.sk-item::before, #sk-container-id-4 div.sk-parallel-item::before {content: \"\";position: absolute;border-left: 1px solid gray;box-sizing: border-box;top: 0;bottom: 0;left: 50%;z-index: -1;}#sk-container-id-4 div.sk-parallel-item {display: flex;flex-direction: column;z-index: 1;position: relative;background-color: white;}#sk-container-id-4 div.sk-parallel-item:first-child::after {align-self: flex-end;width: 50%;}#sk-container-id-4 div.sk-parallel-item:last-child::after {align-self: flex-start;width: 50%;}#sk-container-id-4 div.sk-parallel-item:only-child::after {width: 0;}#sk-container-id-4 div.sk-dashed-wrapped {border: 1px dashed gray;margin: 0 0.4em 0.5em 0.4em;box-sizing: border-box;padding-bottom: 0.4em;background-color: white;}#sk-container-id-4 div.sk-label label {font-family: monospace;font-weight: bold;display: inline-block;line-height: 1.2em;}#sk-container-id-4 div.sk-label-container {text-align: center;}#sk-container-id-4 div.sk-container {/* jupyter's `normalize.less` sets `[hidden] { display: none; }` but bootstrap.min.css set `[hidden] { display: none !important; }` so we also need the `!important` here to be able to override the default hidden behavior on the sphinx rendered scikit-learn.org. See: https://github.com/scikit-learn/scikit-learn/issues/21755 */display: inline-block !important;position: relative;}#sk-container-id-4 div.sk-text-repr-fallback {display: none;}</style><div id=\"sk-container-id-4\" class=\"sk-top-container\"><div class=\"sk-text-repr-fallback\"><pre>LGBMClassifier(max_depth=2, n_estimators=100, objective=&#x27;binary&#x27;)</pre><b>In a Jupyter environment, please rerun this cell to show the HTML representation or trust the notebook. <br />On GitHub, the HTML representation is unable to render, please try loading this page with nbviewer.org.</b></div><div class=\"sk-container\" hidden><div class=\"sk-item\"><div class=\"sk-estimator sk-toggleable\"><input class=\"sk-toggleable__control sk-hidden--visually\" id=\"sk-estimator-id-6\" type=\"checkbox\" checked><label for=\"sk-estimator-id-6\" class=\"sk-toggleable__label sk-toggleable__label-arrow\">LGBMClassifier</label><div class=\"sk-toggleable__content\"><pre>LGBMClassifier(max_depth=2, n_estimators=100, objective=&#x27;binary&#x27;)</pre></div></div></div></div></div>"
      ],
      "text/plain": [
       "LGBMClassifier(max_depth=2, n_estimators=100, objective='binary')"
      ]
     },
     "execution_count": 60,
     "metadata": {},
     "output_type": "execute_result"
    }
   ],
   "source": [
    "X_train_top_20[obj_cols_20] = X_train_top_20[obj_cols_20].astype('category')\n",
    "X_test_top_20[obj_cols_20] = X_test_top_20[obj_cols_20].astype('category')\n",
    "\n",
    "\n",
    "lgbm = LGBMClassifier(max_depth=2, n_estimators=100)\n",
    "lgbm.fit(X_train_top_20, y_train)"
   ]
  },
  {
   "cell_type": "markdown",
   "metadata": {},
   "source": [
    "#### Quality metrics results"
   ]
  },
  {
   "cell_type": "code",
   "execution_count": 61,
   "metadata": {},
   "outputs": [
    {
     "name": "stdout",
     "output_type": "stream",
     "text": [
      "Train ROC-AUC score: 0.6438264174893208\n",
      "Test ROC-AUC score: 0.6089400742852819\n"
     ]
    }
   ],
   "source": [
    "print(f\"Train ROC-AUC score: {roc_auc_score(y_train, lgbm.predict_proba(X_train_top_20)[:, 1])}\")\n",
    "print(f\"Test ROC-AUC score: {roc_auc_score(y_test, lgbm.predict_proba(X_test_top_20)[:, 1])}\")"
   ]
  },
  {
   "cell_type": "code",
   "execution_count": 62,
   "metadata": {},
   "outputs": [
    {
     "name": "stdout",
     "output_type": "stream",
     "text": [
      "Среднее hitrate@5 train: 0.6019777503090235\n",
      "Среднее hitrate@5 test: 0.5456919060052219\n"
     ]
    }
   ],
   "source": [
    "pred_lgbm_train = probs(X_train_top_20, y_train, lgbm)\n",
    "pred_lgbm_test = probs(X_test_top_20, y_test, lgbm)\n",
    "\n",
    "print(f'Среднее hitrate@5 train: {hitrate(pred_lgbm_train)}')\n",
    "print(f'Среднее hitrate@5 test: {hitrate(pred_lgbm_test)}')"
   ]
  },
  {
   "cell_type": "markdown",
   "metadata": {},
   "source": [
    "Качество ухудшилось"
   ]
  },
  {
   "cell_type": "markdown",
   "metadata": {},
   "source": [
    "#### XGBOOST:"
   ]
  },
  {
   "cell_type": "code",
   "execution_count": 63,
   "metadata": {},
   "outputs": [
    {
     "data": {
      "text/html": [
       "<style>#sk-container-id-5 {color: black;background-color: white;}#sk-container-id-5 pre{padding: 0;}#sk-container-id-5 div.sk-toggleable {background-color: white;}#sk-container-id-5 label.sk-toggleable__label {cursor: pointer;display: block;width: 100%;margin-bottom: 0;padding: 0.3em;box-sizing: border-box;text-align: center;}#sk-container-id-5 label.sk-toggleable__label-arrow:before {content: \"▸\";float: left;margin-right: 0.25em;color: #696969;}#sk-container-id-5 label.sk-toggleable__label-arrow:hover:before {color: black;}#sk-container-id-5 div.sk-estimator:hover label.sk-toggleable__label-arrow:before {color: black;}#sk-container-id-5 div.sk-toggleable__content {max-height: 0;max-width: 0;overflow: hidden;text-align: left;background-color: #f0f8ff;}#sk-container-id-5 div.sk-toggleable__content pre {margin: 0.2em;color: black;border-radius: 0.25em;background-color: #f0f8ff;}#sk-container-id-5 input.sk-toggleable__control:checked~div.sk-toggleable__content {max-height: 200px;max-width: 100%;overflow: auto;}#sk-container-id-5 input.sk-toggleable__control:checked~label.sk-toggleable__label-arrow:before {content: \"▾\";}#sk-container-id-5 div.sk-estimator input.sk-toggleable__control:checked~label.sk-toggleable__label {background-color: #d4ebff;}#sk-container-id-5 div.sk-label input.sk-toggleable__control:checked~label.sk-toggleable__label {background-color: #d4ebff;}#sk-container-id-5 input.sk-hidden--visually {border: 0;clip: rect(1px 1px 1px 1px);clip: rect(1px, 1px, 1px, 1px);height: 1px;margin: -1px;overflow: hidden;padding: 0;position: absolute;width: 1px;}#sk-container-id-5 div.sk-estimator {font-family: monospace;background-color: #f0f8ff;border: 1px dotted black;border-radius: 0.25em;box-sizing: border-box;margin-bottom: 0.5em;}#sk-container-id-5 div.sk-estimator:hover {background-color: #d4ebff;}#sk-container-id-5 div.sk-parallel-item::after {content: \"\";width: 100%;border-bottom: 1px solid gray;flex-grow: 1;}#sk-container-id-5 div.sk-label:hover label.sk-toggleable__label {background-color: #d4ebff;}#sk-container-id-5 div.sk-serial::before {content: \"\";position: absolute;border-left: 1px solid gray;box-sizing: border-box;top: 0;bottom: 0;left: 50%;z-index: 0;}#sk-container-id-5 div.sk-serial {display: flex;flex-direction: column;align-items: center;background-color: white;padding-right: 0.2em;padding-left: 0.2em;position: relative;}#sk-container-id-5 div.sk-item {position: relative;z-index: 1;}#sk-container-id-5 div.sk-parallel {display: flex;align-items: stretch;justify-content: center;background-color: white;position: relative;}#sk-container-id-5 div.sk-item::before, #sk-container-id-5 div.sk-parallel-item::before {content: \"\";position: absolute;border-left: 1px solid gray;box-sizing: border-box;top: 0;bottom: 0;left: 50%;z-index: -1;}#sk-container-id-5 div.sk-parallel-item {display: flex;flex-direction: column;z-index: 1;position: relative;background-color: white;}#sk-container-id-5 div.sk-parallel-item:first-child::after {align-self: flex-end;width: 50%;}#sk-container-id-5 div.sk-parallel-item:last-child::after {align-self: flex-start;width: 50%;}#sk-container-id-5 div.sk-parallel-item:only-child::after {width: 0;}#sk-container-id-5 div.sk-dashed-wrapped {border: 1px dashed gray;margin: 0 0.4em 0.5em 0.4em;box-sizing: border-box;padding-bottom: 0.4em;background-color: white;}#sk-container-id-5 div.sk-label label {font-family: monospace;font-weight: bold;display: inline-block;line-height: 1.2em;}#sk-container-id-5 div.sk-label-container {text-align: center;}#sk-container-id-5 div.sk-container {/* jupyter's `normalize.less` sets `[hidden] { display: none; }` but bootstrap.min.css set `[hidden] { display: none !important; }` so we also need the `!important` here to be able to override the default hidden behavior on the sphinx rendered scikit-learn.org. See: https://github.com/scikit-learn/scikit-learn/issues/21755 */display: inline-block !important;position: relative;}#sk-container-id-5 div.sk-text-repr-fallback {display: none;}</style><div id=\"sk-container-id-5\" class=\"sk-top-container\"><div class=\"sk-text-repr-fallback\"><pre>XGBClassifier(base_score=0.5, booster=&#x27;gbtree&#x27;, callbacks=None,\n",
       "              colsample_bylevel=1, colsample_bynode=1, colsample_bytree=1,\n",
       "              early_stopping_rounds=None, enable_categorical=True,\n",
       "              eval_metric=None, gamma=0, gpu_id=-1, grow_policy=&#x27;depthwise&#x27;,\n",
       "              importance_type=None, interaction_constraints=&#x27;&#x27;,\n",
       "              learning_rate=0.300000012, max_bin=256, max_cat_to_onehot=4,\n",
       "              max_delta_step=0, max_depth=6, max_leaves=0, min_child_weight=1,\n",
       "              missing=nan, monotone_constraints=&#x27;()&#x27;, n_estimators=100,\n",
       "              n_jobs=0, num_parallel_tree=1, predictor=&#x27;auto&#x27;, random_state=0,\n",
       "              reg_alpha=0, reg_lambda=1, ...)</pre><b>In a Jupyter environment, please rerun this cell to show the HTML representation or trust the notebook. <br />On GitHub, the HTML representation is unable to render, please try loading this page with nbviewer.org.</b></div><div class=\"sk-container\" hidden><div class=\"sk-item\"><div class=\"sk-estimator sk-toggleable\"><input class=\"sk-toggleable__control sk-hidden--visually\" id=\"sk-estimator-id-7\" type=\"checkbox\" checked><label for=\"sk-estimator-id-7\" class=\"sk-toggleable__label sk-toggleable__label-arrow\">XGBClassifier</label><div class=\"sk-toggleable__content\"><pre>XGBClassifier(base_score=0.5, booster=&#x27;gbtree&#x27;, callbacks=None,\n",
       "              colsample_bylevel=1, colsample_bynode=1, colsample_bytree=1,\n",
       "              early_stopping_rounds=None, enable_categorical=True,\n",
       "              eval_metric=None, gamma=0, gpu_id=-1, grow_policy=&#x27;depthwise&#x27;,\n",
       "              importance_type=None, interaction_constraints=&#x27;&#x27;,\n",
       "              learning_rate=0.300000012, max_bin=256, max_cat_to_onehot=4,\n",
       "              max_delta_step=0, max_depth=6, max_leaves=0, min_child_weight=1,\n",
       "              missing=nan, monotone_constraints=&#x27;()&#x27;, n_estimators=100,\n",
       "              n_jobs=0, num_parallel_tree=1, predictor=&#x27;auto&#x27;, random_state=0,\n",
       "              reg_alpha=0, reg_lambda=1, ...)</pre></div></div></div></div></div>"
      ],
      "text/plain": [
       "XGBClassifier(base_score=0.5, booster='gbtree', callbacks=None,\n",
       "              colsample_bylevel=1, colsample_bynode=1, colsample_bytree=1,\n",
       "              early_stopping_rounds=None, enable_categorical=True,\n",
       "              eval_metric=None, gamma=0, gpu_id=-1, grow_policy='depthwise',\n",
       "              importance_type=None, interaction_constraints='',\n",
       "              learning_rate=0.300000012, max_bin=256, max_cat_to_onehot=4,\n",
       "              max_delta_step=0, max_depth=6, max_leaves=0, min_child_weight=1,\n",
       "              missing=nan, monotone_constraints='()', n_estimators=100,\n",
       "              n_jobs=0, num_parallel_tree=1, predictor='auto', random_state=0,\n",
       "              reg_alpha=0, reg_lambda=1, ...)"
      ]
     },
     "execution_count": 63,
     "metadata": {},
     "output_type": "execute_result"
    }
   ],
   "source": [
    "from xgboost import XGBClassifier\n",
    "\n",
    "xgboost = XGBClassifier(enable_categorical=True, tree_method='hist') # сообщили, что в датасете есть категориальные фичи и явно указали метод построения деревьев\n",
    "xgboost.fit(X_train_cat, y_train)"
   ]
  },
  {
   "cell_type": "markdown",
   "metadata": {},
   "source": [
    "#### Quality metrics results"
   ]
  },
  {
   "cell_type": "code",
   "execution_count": 64,
   "metadata": {},
   "outputs": [
    {
     "name": "stdout",
     "output_type": "stream",
     "text": [
      "Train ROC-AUC score: 0.9739593501297023\n",
      "Test ROC-AUC score: 0.5141875434140282\n"
     ]
    }
   ],
   "source": [
    "print(f\"Train ROC-AUC score: {roc_auc_score(y_train, xgboost.predict_proba(X_train_cat)[:, 1])}\")\n",
    "print(f\"Test ROC-AUC score: {roc_auc_score(y_test, xgboost.predict_proba(X_test_cat)[:, 1])}\")"
   ]
  },
  {
   "cell_type": "code",
   "execution_count": 65,
   "metadata": {},
   "outputs": [
    {
     "name": "stdout",
     "output_type": "stream",
     "text": [
      "Среднее hitrate@5 train: 0.9814585908529048\n",
      "Среднее hitrate@5 test: 0.5052219321148825\n"
     ]
    }
   ],
   "source": [
    "pred_xgboost_train = probs(X_train_cat, y_train, xgboost)\n",
    "pred_xgboost_test = probs(X_test_cat, y_test, xgboost)\n",
    "\n",
    "print(f'Среднее hitrate@5 train: {hitrate(pred_xgboost_train)}')\n",
    "print(f'Среднее hitrate@5 test: {hitrate(pred_xgboost_test)}')"
   ]
  },
  {
   "cell_type": "markdown",
   "metadata": {},
   "source": [
    "Модель явно переобучилась. Качество на тесте такое же, как при использовании алгоритма lgbm."
   ]
  },
  {
   "cell_type": "markdown",
   "metadata": {},
   "source": [
    "#### XGBOOST with top-20 important features"
   ]
  },
  {
   "cell_type": "code",
   "execution_count": 66,
   "metadata": {},
   "outputs": [
    {
     "data": {
      "image/png": "[encoded data removed]",
      "text/plain": [
       "<Figure size 1000x800 with 1 Axes>"
      ]
     },
     "metadata": {},
     "output_type": "display_data"
    }
   ],
   "source": [
    "col_top_20_xgboost = feature_importance(data=data, model=xgboost)\n",
    "plot_feature_importance(col_top_20, 'XGBClassifier')"
   ]
  },
  {
   "cell_type": "code",
   "execution_count": 67,
   "metadata": {},
   "outputs": [
    {
     "data": {
      "text/plain": [
       "['city', 'exp_group', 'topic', 'country']"
      ]
     },
     "execution_count": 67,
     "metadata": {},
     "output_type": "execute_result"
    }
   ],
   "source": [
    "X_train_top_20, X_test_top_20 = X_train[col_top_20['feature_names'].tolist()], X_test[col_top_20['feature_names'].tolist()]\n",
    "obj_cols_20 = X_test_top_20.select_dtypes(include='object').columns.tolist()\n",
    "obj_cols_20"
   ]
  },
  {
   "cell_type": "code",
   "execution_count": 68,
   "metadata": {},
   "outputs": [
    {
     "name": "stderr",
     "output_type": "stream",
     "text": [
      "C:\\Users\\Пользователь\\AppData\\Local\\Temp\\ipykernel_16132\\3426360323.py:1: SettingWithCopyWarning: \n",
      "A value is trying to be set on a copy of a slice from a DataFrame.\n",
      "Try using .loc[row_indexer,col_indexer] = value instead\n",
      "\n",
      "See the caveats in the documentation: https://pandas.pydata.org/pandas-docs/stable/user_guide/indexing.html#returning-a-view-versus-a-copy\n",
      "  X_train_top_20[obj_cols_20] = X_train_top_20[obj_cols_20].astype('category')\n",
      "C:\\Users\\Пользователь\\AppData\\Local\\Temp\\ipykernel_16132\\3426360323.py:2: SettingWithCopyWarning: \n",
      "A value is trying to be set on a copy of a slice from a DataFrame.\n",
      "Try using .loc[row_indexer,col_indexer] = value instead\n",
      "\n",
      "See the caveats in the documentation: https://pandas.pydata.org/pandas-docs/stable/user_guide/indexing.html#returning-a-view-versus-a-copy\n",
      "  X_test_top_20[obj_cols_20] = X_test_top_20[obj_cols_20].astype('category')\n"
     ]
    },
    {
     "data": {
      "text/html": [
       "<style>#sk-container-id-6 {color: black;background-color: white;}#sk-container-id-6 pre{padding: 0;}#sk-container-id-6 div.sk-toggleable {background-color: white;}#sk-container-id-6 label.sk-toggleable__label {cursor: pointer;display: block;width: 100%;margin-bottom: 0;padding: 0.3em;box-sizing: border-box;text-align: center;}#sk-container-id-6 label.sk-toggleable__label-arrow:before {content: \"▸\";float: left;margin-right: 0.25em;color: #696969;}#sk-container-id-6 label.sk-toggleable__label-arrow:hover:before {color: black;}#sk-container-id-6 div.sk-estimator:hover label.sk-toggleable__label-arrow:before {color: black;}#sk-container-id-6 div.sk-toggleable__content {max-height: 0;max-width: 0;overflow: hidden;text-align: left;background-color: #f0f8ff;}#sk-container-id-6 div.sk-toggleable__content pre {margin: 0.2em;color: black;border-radius: 0.25em;background-color: #f0f8ff;}#sk-container-id-6 input.sk-toggleable__control:checked~div.sk-toggleable__content {max-height: 200px;max-width: 100%;overflow: auto;}#sk-container-id-6 input.sk-toggleable__control:checked~label.sk-toggleable__label-arrow:before {content: \"▾\";}#sk-container-id-6 div.sk-estimator input.sk-toggleable__control:checked~label.sk-toggleable__label {background-color: #d4ebff;}#sk-container-id-6 div.sk-label input.sk-toggleable__control:checked~label.sk-toggleable__label {background-color: #d4ebff;}#sk-container-id-6 input.sk-hidden--visually {border: 0;clip: rect(1px 1px 1px 1px);clip: rect(1px, 1px, 1px, 1px);height: 1px;margin: -1px;overflow: hidden;padding: 0;position: absolute;width: 1px;}#sk-container-id-6 div.sk-estimator {font-family: monospace;background-color: #f0f8ff;border: 1px dotted black;border-radius: 0.25em;box-sizing: border-box;margin-bottom: 0.5em;}#sk-container-id-6 div.sk-estimator:hover {background-color: #d4ebff;}#sk-container-id-6 div.sk-parallel-item::after {content: \"\";width: 100%;border-bottom: 1px solid gray;flex-grow: 1;}#sk-container-id-6 div.sk-label:hover label.sk-toggleable__label {background-color: #d4ebff;}#sk-container-id-6 div.sk-serial::before {content: \"\";position: absolute;border-left: 1px solid gray;box-sizing: border-box;top: 0;bottom: 0;left: 50%;z-index: 0;}#sk-container-id-6 div.sk-serial {display: flex;flex-direction: column;align-items: center;background-color: white;padding-right: 0.2em;padding-left: 0.2em;position: relative;}#sk-container-id-6 div.sk-item {position: relative;z-index: 1;}#sk-container-id-6 div.sk-parallel {display: flex;align-items: stretch;justify-content: center;background-color: white;position: relative;}#sk-container-id-6 div.sk-item::before, #sk-container-id-6 div.sk-parallel-item::before {content: \"\";position: absolute;border-left: 1px solid gray;box-sizing: border-box;top: 0;bottom: 0;left: 50%;z-index: -1;}#sk-container-id-6 div.sk-parallel-item {display: flex;flex-direction: column;z-index: 1;position: relative;background-color: white;}#sk-container-id-6 div.sk-parallel-item:first-child::after {align-self: flex-end;width: 50%;}#sk-container-id-6 div.sk-parallel-item:last-child::after {align-self: flex-start;width: 50%;}#sk-container-id-6 div.sk-parallel-item:only-child::after {width: 0;}#sk-container-id-6 div.sk-dashed-wrapped {border: 1px dashed gray;margin: 0 0.4em 0.5em 0.4em;box-sizing: border-box;padding-bottom: 0.4em;background-color: white;}#sk-container-id-6 div.sk-label label {font-family: monospace;font-weight: bold;display: inline-block;line-height: 1.2em;}#sk-container-id-6 div.sk-label-container {text-align: center;}#sk-container-id-6 div.sk-container {/* jupyter's `normalize.less` sets `[hidden] { display: none; }` but bootstrap.min.css set `[hidden] { display: none !important; }` so we also need the `!important` here to be able to override the default hidden behavior on the sphinx rendered scikit-learn.org. See: https://github.com/scikit-learn/scikit-learn/issues/21755 */display: inline-block !important;position: relative;}#sk-container-id-6 div.sk-text-repr-fallback {display: none;}</style><div id=\"sk-container-id-6\" class=\"sk-top-container\"><div class=\"sk-text-repr-fallback\"><pre>XGBClassifier(base_score=0.5, booster=&#x27;gbtree&#x27;, callbacks=None,\n",
       "              colsample_bylevel=1, colsample_bynode=1, colsample_bytree=1,\n",
       "              early_stopping_rounds=None, enable_categorical=True,\n",
       "              eval_metric=None, gamma=0, gpu_id=-1, grow_policy=&#x27;depthwise&#x27;,\n",
       "              importance_type=None, interaction_constraints=&#x27;&#x27;,\n",
       "              learning_rate=0.300000012, max_bin=256, max_cat_to_onehot=4,\n",
       "              max_delta_step=0, max_depth=6, max_leaves=0, min_child_weight=1,\n",
       "              missing=nan, monotone_constraints=&#x27;()&#x27;, n_estimators=100,\n",
       "              n_jobs=0, num_parallel_tree=1, predictor=&#x27;auto&#x27;, random_state=0,\n",
       "              reg_alpha=0, reg_lambda=1, ...)</pre><b>In a Jupyter environment, please rerun this cell to show the HTML representation or trust the notebook. <br />On GitHub, the HTML representation is unable to render, please try loading this page with nbviewer.org.</b></div><div class=\"sk-container\" hidden><div class=\"sk-item\"><div class=\"sk-estimator sk-toggleable\"><input class=\"sk-toggleable__control sk-hidden--visually\" id=\"sk-estimator-id-8\" type=\"checkbox\" checked><label for=\"sk-estimator-id-8\" class=\"sk-toggleable__label sk-toggleable__label-arrow\">XGBClassifier</label><div class=\"sk-toggleable__content\"><pre>XGBClassifier(base_score=0.5, booster=&#x27;gbtree&#x27;, callbacks=None,\n",
       "              colsample_bylevel=1, colsample_bynode=1, colsample_bytree=1,\n",
       "              early_stopping_rounds=None, enable_categorical=True,\n",
       "              eval_metric=None, gamma=0, gpu_id=-1, grow_policy=&#x27;depthwise&#x27;,\n",
       "              importance_type=None, interaction_constraints=&#x27;&#x27;,\n",
       "              learning_rate=0.300000012, max_bin=256, max_cat_to_onehot=4,\n",
       "              max_delta_step=0, max_depth=6, max_leaves=0, min_child_weight=1,\n",
       "              missing=nan, monotone_constraints=&#x27;()&#x27;, n_estimators=100,\n",
       "              n_jobs=0, num_parallel_tree=1, predictor=&#x27;auto&#x27;, random_state=0,\n",
       "              reg_alpha=0, reg_lambda=1, ...)</pre></div></div></div></div></div>"
      ],
      "text/plain": [
       "XGBClassifier(base_score=0.5, booster='gbtree', callbacks=None,\n",
       "              colsample_bylevel=1, colsample_bynode=1, colsample_bytree=1,\n",
       "              early_stopping_rounds=None, enable_categorical=True,\n",
       "              eval_metric=None, gamma=0, gpu_id=-1, grow_policy='depthwise',\n",
       "              importance_type=None, interaction_constraints='',\n",
       "              learning_rate=0.300000012, max_bin=256, max_cat_to_onehot=4,\n",
       "              max_delta_step=0, max_depth=6, max_leaves=0, min_child_weight=1,\n",
       "              missing=nan, monotone_constraints='()', n_estimators=100,\n",
       "              n_jobs=0, num_parallel_tree=1, predictor='auto', random_state=0,\n",
       "              reg_alpha=0, reg_lambda=1, ...)"
      ]
     },
     "execution_count": 68,
     "metadata": {},
     "output_type": "execute_result"
    }
   ],
   "source": [
    "X_train_top_20[obj_cols_20] = X_train_top_20[obj_cols_20].astype('category')\n",
    "X_test_top_20[obj_cols_20] = X_test_top_20[obj_cols_20].astype('category')\n",
    "\n",
    "xgboost = XGBClassifier(enable_categorical=True, tree_method='hist') \n",
    "xgboost.fit(X_train_top_20, y_train)"
   ]
  },
  {
   "cell_type": "markdown",
   "metadata": {},
   "source": [
    "#### Quality metrics results"
   ]
  },
  {
   "cell_type": "code",
   "execution_count": 69,
   "metadata": {},
   "outputs": [
    {
     "name": "stdout",
     "output_type": "stream",
     "text": [
      "Train ROC-AUC score: 0.9480952885975586\n",
      "Test ROC-AUC score: 0.5235039724897949\n"
     ]
    }
   ],
   "source": [
    "print(f\"Train ROC-AUC score: {roc_auc_score(y_train, xgboost.predict_proba(X_train_top_20)[:, 1])}\")\n",
    "print(f\"Test ROC-AUC score: {roc_auc_score(y_test, xgboost.predict_proba(X_test_top_20)[:, 1])}\")"
   ]
  },
  {
   "cell_type": "code",
   "execution_count": 70,
   "metadata": {},
   "outputs": [
    {
     "name": "stdout",
     "output_type": "stream",
     "text": [
      "Среднее hitrate@5 train: 0.9740420271940667\n",
      "Среднее hitrate@5 test: 0.5195822454308094\n"
     ]
    }
   ],
   "source": [
    "pred_xgboost_train = probs(X_train_top_20, y_train, xgboost)\n",
    "pred_xgboost_test = probs(X_test_top_20, y_test, xgboost)\n",
    "\n",
    "print(f'Среднее hitrate@5 train: {hitrate(pred_xgboost_train)}')\n",
    "print(f'Среднее hitrate@5 test: {hitrate(pred_xgboost_test)}')"
   ]
  },
  {
   "cell_type": "markdown",
   "metadata": {},
   "source": [
    "Таким образом, лучшей моделью оказалась Catboost на 20 фичах и 500 итерациях."
   ]
  },
  {
   "cell_type": "code",
   "execution_count": null,
   "metadata": {},
   "outputs": [],
   "source": []
  }
 ],
 "metadata": {
  "kernelspec": {
   "display_name": ".venv",
   "language": "python",
   "name": "python3"
  },
  "language_info": {
   "codemirror_mode": {
    "name": "ipython",
    "version": 3
   },
   "file_extension": ".py",
   "mimetype": "text/x-python",
   "name": "python",
   "nbconvert_exporter": "python",
   "pygments_lexer": "ipython3",
   "version": "3.9.10"
  }
 },
 "nbformat": 4,
 "nbformat_minor": 2
}
